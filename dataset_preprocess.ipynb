{
  "nbformat": 4,
  "nbformat_minor": 0,
  "metadata": {
    "colab": {
      "provenance": []
    },
    "kernelspec": {
      "name": "python3",
      "display_name": "Python 3"
    },
    "language_info": {
      "name": "python"
    }
  },
  "cells": [
    {
      "cell_type": "markdown",
      "source": [],
      "metadata": {
        "id": "CFMH3GUSFZVS"
      }
    },
    {
      "cell_type": "markdown",
      "source": [
        "## Get info box\n"
      ],
      "metadata": {
        "id": "QygsRFh0DTNj"
      }
    },
    {
      "cell_type": "code",
      "execution_count": null,
      "metadata": {
        "id": "ikEU4ZF7FOrK"
      },
      "outputs": [],
      "source": [
        "from bs4 import BeautifulSoup as bs\n",
        "import requests"
      ]
    },
    {
      "cell_type": "code",
      "source": [
        "request = requests.get(\"https://en.wikipedia.org/wiki/Toy_Story_4\")\n",
        "\n",
        "# convert beautiful soup object\n",
        "soup = bs(request.content)\n",
        "\n",
        "contents = soup.prettify()\n",
        "# print(contents)"
      ],
      "metadata": {
        "id": "niZxT07HJUhJ"
      },
      "execution_count": null,
      "outputs": []
    },
    {
      "cell_type": "code",
      "source": [
        "info_box = soup.find(class_=\"infobox vevent\")\n",
        "info_rows = info_box.find_all(\"tr\")\n",
        "for row in info_rows:\n",
        "  print(row.prettify())"
      ],
      "metadata": {
        "colab": {
          "base_uri": "https://localhost:8080/"
        },
        "id": "k9IAAcIVKhTh",
        "outputId": "7c5563e6-918b-4734-c5e0-c7af12279a27"
      },
      "execution_count": null,
      "outputs": [
        {
          "output_type": "stream",
          "name": "stdout",
          "text": [
            "<tr>\n",
            " <th class=\"infobox-above summary\" colspan=\"2\" style=\"font-size: 125%; font-style: italic;\">\n",
            "  Toy Story 4\n",
            " </th>\n",
            "</tr>\n",
            "\n",
            "<tr>\n",
            " <td class=\"infobox-image\" colspan=\"2\">\n",
            "  <span class=\"mw-default-size\" typeof=\"mw:File/Frameless\">\n",
            "   <a class=\"mw-file-description\" href=\"/wiki/File:Toy_Story_4_poster.jpg\">\n",
            "    <img class=\"mw-file-element\" data-file-height=\"326\" data-file-width=\"220\" decoding=\"async\" height=\"326\" src=\"//upload.wikimedia.org/wikipedia/en/4/4c/Toy_Story_4_poster.jpg\" width=\"220\"/>\n",
            "   </a>\n",
            "  </span>\n",
            "  <div class=\"infobox-caption\">\n",
            "   Theatrical release poster\n",
            "  </div>\n",
            " </td>\n",
            "</tr>\n",
            "\n",
            "<tr>\n",
            " <th class=\"infobox-label\" scope=\"row\" style=\"white-space: nowrap; padding-right: 0.65em;\">\n",
            "  Directed by\n",
            " </th>\n",
            " <td class=\"infobox-data\">\n",
            "  <a href=\"/wiki/Josh_Cooley\" title=\"Josh Cooley\">\n",
            "   Josh Cooley\n",
            "  </a>\n",
            "  <sup class=\"reference\" id=\"cite_ref-2\">\n",
            "   <a href=\"#cite_note-2\">\n",
            "    [a]\n",
            "   </a>\n",
            "  </sup>\n",
            " </td>\n",
            "</tr>\n",
            "\n",
            "<tr>\n",
            " <th class=\"infobox-label\" scope=\"row\" style=\"white-space: nowrap; padding-right: 0.65em;\">\n",
            "  Screenplay by\n",
            " </th>\n",
            " <td class=\"infobox-data\">\n",
            "  <style data-mw-deduplicate=\"TemplateStyles:r1126788409\">\n",
            "   .mw-parser-output .plainlist ol,.mw-parser-output .plainlist ul{line-height:inherit;list-style:none;margin:0;padding:0}.mw-parser-output .plainlist ol li,.mw-parser-output .plainlist ul li{margin-bottom:0}\n",
            "  </style>\n",
            "  <div class=\"plainlist\">\n",
            "   <ul>\n",
            "    <li>\n",
            "     <a href=\"/wiki/Andrew_Stanton\" title=\"Andrew Stanton\">\n",
            "      Andrew Stanton\n",
            "     </a>\n",
            "    </li>\n",
            "    <li>\n",
            "     <a href=\"/wiki/Stephany_Folsom\" title=\"Stephany Folsom\">\n",
            "      Stephany Folsom\n",
            "     </a>\n",
            "    </li>\n",
            "   </ul>\n",
            "  </div>\n",
            " </td>\n",
            "</tr>\n",
            "\n",
            "<tr>\n",
            " <th class=\"infobox-label\" scope=\"row\" style=\"white-space: nowrap; padding-right: 0.65em;\">\n",
            "  Story by\n",
            " </th>\n",
            " <td class=\"infobox-data\">\n",
            "  <link href=\"mw-data:TemplateStyles:r1126788409\" rel=\"mw-deduplicated-inline-style\"/>\n",
            "  <div class=\"plainlist\">\n",
            "   <ul>\n",
            "    <li>\n",
            "     <a href=\"/wiki/John_Lasseter\" title=\"John Lasseter\">\n",
            "      John Lasseter\n",
            "     </a>\n",
            "    </li>\n",
            "    <li>\n",
            "     Andrew Stanton\n",
            "    </li>\n",
            "    <li>\n",
            "     Josh Cooley\n",
            "    </li>\n",
            "    <li>\n",
            "     Valerie LaPointe\n",
            "    </li>\n",
            "    <li>\n",
            "     <a href=\"/wiki/Rashida_Jones\" title=\"Rashida Jones\">\n",
            "      Rashida Jones\n",
            "     </a>\n",
            "    </li>\n",
            "    <li>\n",
            "     <a href=\"/wiki/Will_McCormack\" title=\"Will McCormack\">\n",
            "      Will McCormack\n",
            "     </a>\n",
            "    </li>\n",
            "    <li>\n",
            "     <a href=\"/wiki/Martin_Hynes\" title=\"Martin Hynes\">\n",
            "      Martin Hynes\n",
            "     </a>\n",
            "    </li>\n",
            "    <li>\n",
            "     Stephany Folsom\n",
            "    </li>\n",
            "   </ul>\n",
            "  </div>\n",
            " </td>\n",
            "</tr>\n",
            "\n",
            "<tr>\n",
            " <th class=\"infobox-label\" scope=\"row\" style=\"white-space: nowrap; padding-right: 0.65em;\">\n",
            "  Produced by\n",
            " </th>\n",
            " <td class=\"infobox-data\">\n",
            "  <link href=\"mw-data:TemplateStyles:r1126788409\" rel=\"mw-deduplicated-inline-style\"/>\n",
            "  <div class=\"plainlist\">\n",
            "   <ul>\n",
            "    <li>\n",
            "     Mark Nielsen\n",
            "    </li>\n",
            "    <li>\n",
            "     <a href=\"/wiki/Jonas_Rivera\" title=\"Jonas Rivera\">\n",
            "      Jonas Rivera\n",
            "     </a>\n",
            "    </li>\n",
            "   </ul>\n",
            "  </div>\n",
            " </td>\n",
            "</tr>\n",
            "\n",
            "<tr>\n",
            " <th class=\"infobox-label\" scope=\"row\" style=\"white-space: nowrap; padding-right: 0.65em;\">\n",
            "  Starring\n",
            " </th>\n",
            " <td class=\"infobox-data\">\n",
            "  <link href=\"mw-data:TemplateStyles:r1126788409\" rel=\"mw-deduplicated-inline-style\"/>\n",
            "  <div class=\"plainlist\">\n",
            "   <ul>\n",
            "    <li>\n",
            "     <a href=\"/wiki/Tom_Hanks\" title=\"Tom Hanks\">\n",
            "      Tom Hanks\n",
            "     </a>\n",
            "    </li>\n",
            "    <li>\n",
            "     <a href=\"/wiki/Tim_Allen\" title=\"Tim Allen\">\n",
            "      Tim Allen\n",
            "     </a>\n",
            "    </li>\n",
            "    <li>\n",
            "     <a href=\"/wiki/Annie_Potts\" title=\"Annie Potts\">\n",
            "      Annie Potts\n",
            "     </a>\n",
            "    </li>\n",
            "    <li>\n",
            "     <a href=\"/wiki/Tony_Hale\" title=\"Tony Hale\">\n",
            "      Tony Hale\n",
            "     </a>\n",
            "    </li>\n",
            "    <li>\n",
            "     <a href=\"/wiki/Keegan-Michael_Key\" title=\"Keegan-Michael Key\">\n",
            "      Keegan-Michael Key\n",
            "     </a>\n",
            "    </li>\n",
            "    <li>\n",
            "     <a href=\"/wiki/Jordan_Peele\" title=\"Jordan Peele\">\n",
            "      Jordan Peele\n",
            "     </a>\n",
            "    </li>\n",
            "    <li>\n",
            "     <a href=\"/wiki/Madeleine_McGraw\" title=\"Madeleine McGraw\">\n",
            "      Madeleine McGraw\n",
            "     </a>\n",
            "    </li>\n",
            "    <li>\n",
            "     <a href=\"/wiki/Christina_Hendricks\" title=\"Christina Hendricks\">\n",
            "      Christina Hendricks\n",
            "     </a>\n",
            "    </li>\n",
            "    <li>\n",
            "     <a href=\"/wiki/Keanu_Reeves\" title=\"Keanu Reeves\">\n",
            "      Keanu Reeves\n",
            "     </a>\n",
            "    </li>\n",
            "    <li>\n",
            "     <a href=\"/wiki/Ally_Maki\" title=\"Ally Maki\">\n",
            "      Ally Maki\n",
            "     </a>\n",
            "    </li>\n",
            "    <li>\n",
            "     <a href=\"/wiki/Jay_Hernandez\" title=\"Jay Hernandez\">\n",
            "      Jay Hernandez\n",
            "     </a>\n",
            "    </li>\n",
            "    <li>\n",
            "     <a href=\"/wiki/Lori_Alan\" title=\"Lori Alan\">\n",
            "      Lori Alan\n",
            "     </a>\n",
            "    </li>\n",
            "    <li>\n",
            "     <a href=\"/wiki/Joan_Cusack\" title=\"Joan Cusack\">\n",
            "      Joan Cusack\n",
            "     </a>\n",
            "    </li>\n",
            "   </ul>\n",
            "  </div>\n",
            " </td>\n",
            "</tr>\n",
            "\n",
            "<tr>\n",
            " <th class=\"infobox-label\" scope=\"row\" style=\"white-space: nowrap; padding-right: 0.65em;\">\n",
            "  Cinematography\n",
            " </th>\n",
            " <td class=\"infobox-data\">\n",
            "  <link href=\"mw-data:TemplateStyles:r1126788409\" rel=\"mw-deduplicated-inline-style\"/>\n",
            "  <div class=\"plainlist\">\n",
            "   <ul>\n",
            "    <li>\n",
            "     <a href=\"/wiki/Patrick_Lin_(cinematographer)\" title=\"Patrick Lin (cinematographer)\">\n",
            "      Patrick Lin\n",
            "     </a>\n",
            "    </li>\n",
            "    <li>\n",
            "     Jean-Claude Kalache\n",
            "    </li>\n",
            "   </ul>\n",
            "  </div>\n",
            " </td>\n",
            "</tr>\n",
            "\n",
            "<tr>\n",
            " <th class=\"infobox-label\" scope=\"row\" style=\"white-space: nowrap; padding-right: 0.65em;\">\n",
            "  Edited by\n",
            " </th>\n",
            " <td class=\"infobox-data\">\n",
            "  Axel Geddes\n",
            " </td>\n",
            "</tr>\n",
            "\n",
            "<tr>\n",
            " <th class=\"infobox-label\" scope=\"row\" style=\"white-space: nowrap; padding-right: 0.65em;\">\n",
            "  Music by\n",
            " </th>\n",
            " <td class=\"infobox-data\">\n",
            "  <a href=\"/wiki/Randy_Newman\" title=\"Randy Newman\">\n",
            "   Randy Newman\n",
            "  </a>\n",
            " </td>\n",
            "</tr>\n",
            "\n",
            "<tr>\n",
            " <th class=\"infobox-label\" scope=\"row\" style=\"white-space: nowrap; padding-right: 0.65em;\">\n",
            "  <div style=\"display: inline-block; line-height: 1.2em; padding: .1em 0;\">\n",
            "   Production\n",
            "   <br/>\n",
            "   companies\n",
            "  </div>\n",
            " </th>\n",
            " <td class=\"infobox-data\">\n",
            "  <div style=\"vertical-align: middle;\">\n",
            "   <link href=\"mw-data:TemplateStyles:r1126788409\" rel=\"mw-deduplicated-inline-style\"/>\n",
            "   <div class=\"plainlist\">\n",
            "    <ul>\n",
            "     <li>\n",
            "      <a href=\"/wiki/Walt_Disney_Pictures\" title=\"Walt Disney Pictures\">\n",
            "       Walt Disney Pictures\n",
            "      </a>\n",
            "     </li>\n",
            "     <li>\n",
            "      <a class=\"mw-redirect\" href=\"/wiki/Pixar_Animation_Studios\" title=\"Pixar Animation Studios\">\n",
            "       Pixar Animation Studios\n",
            "      </a>\n",
            "     </li>\n",
            "    </ul>\n",
            "   </div>\n",
            "  </div>\n",
            " </td>\n",
            "</tr>\n",
            "\n",
            "<tr>\n",
            " <th class=\"infobox-label\" scope=\"row\" style=\"white-space: nowrap; padding-right: 0.65em;\">\n",
            "  Distributed by\n",
            " </th>\n",
            " <td class=\"infobox-data\">\n",
            "  <a href=\"/wiki/Walt_Disney_Studios_Motion_Pictures\" title=\"Walt Disney Studios Motion Pictures\">\n",
            "   Walt Disney Studios\n",
            "   <br/>\n",
            "   Motion Pictures\n",
            "  </a>\n",
            " </td>\n",
            "</tr>\n",
            "\n",
            "<tr>\n",
            " <th class=\"infobox-label\" scope=\"row\" style=\"white-space: nowrap; padding-right: 0.65em;\">\n",
            "  <div style=\"display: inline-block; line-height: 1.2em; padding: .1em 0; white-space: normal;\">\n",
            "   Release dates\n",
            "  </div>\n",
            " </th>\n",
            " <td class=\"infobox-data\">\n",
            "  <link href=\"mw-data:TemplateStyles:r1126788409\" rel=\"mw-deduplicated-inline-style\"/>\n",
            "  <div class=\"plainlist\">\n",
            "   <ul>\n",
            "    <li>\n",
            "     June 11, 2019\n",
            "     <span style=\"display:none\">\n",
            "      (\n",
            "      <span class=\"bday dtstart published updated itvstart\">\n",
            "       2019-06-11\n",
            "      </span>\n",
            "      )\n",
            "     </span>\n",
            "     (\n",
            "     <a href=\"/wiki/El_Capitan_Theatre\" title=\"El Capitan Theatre\">\n",
            "      El Capitan Theatre\n",
            "     </a>\n",
            "     )\n",
            "    </li>\n",
            "    <li>\n",
            "     June 21, 2019\n",
            "     <span style=\"display:none\">\n",
            "      (\n",
            "      <span class=\"bday dtstart published updated itvstart\">\n",
            "       2019-06-21\n",
            "      </span>\n",
            "      )\n",
            "     </span>\n",
            "     (United States)\n",
            "    </li>\n",
            "   </ul>\n",
            "  </div>\n",
            " </td>\n",
            "</tr>\n",
            "\n",
            "<tr>\n",
            " <th class=\"infobox-label\" scope=\"row\" style=\"white-space: nowrap; padding-right: 0.65em;\">\n",
            "  <div style=\"display: inline-block; line-height: 1.2em; padding: .1em 0; white-space: normal;\">\n",
            "   Running time\n",
            "  </div>\n",
            " </th>\n",
            " <td class=\"infobox-data\">\n",
            "  100 minutes\n",
            "  <sup class=\"reference\" id=\"cite_ref-3\">\n",
            "   <a href=\"#cite_note-3\">\n",
            "    [2]\n",
            "   </a>\n",
            "  </sup>\n",
            " </td>\n",
            "</tr>\n",
            "\n",
            "<tr>\n",
            " <th class=\"infobox-label\" scope=\"row\" style=\"white-space: nowrap; padding-right: 0.65em;\">\n",
            "  Country\n",
            " </th>\n",
            " <td class=\"infobox-data\">\n",
            "  United States\n",
            " </td>\n",
            "</tr>\n",
            "\n",
            "<tr>\n",
            " <th class=\"infobox-label\" scope=\"row\" style=\"white-space: nowrap; padding-right: 0.65em;\">\n",
            "  Language\n",
            " </th>\n",
            " <td class=\"infobox-data\">\n",
            "  English\n",
            " </td>\n",
            "</tr>\n",
            "\n",
            "<tr>\n",
            " <th class=\"infobox-label\" scope=\"row\" style=\"white-space: nowrap; padding-right: 0.65em;\">\n",
            "  Budget\n",
            " </th>\n",
            " <td class=\"infobox-data\">\n",
            "  $200 million\n",
            "  <sup class=\"reference\" id=\"cite_ref-THRchina_4-0\">\n",
            "   <a href=\"#cite_note-THRchina-4\">\n",
            "    [3]\n",
            "   </a>\n",
            "  </sup>\n",
            " </td>\n",
            "</tr>\n",
            "\n",
            "<tr>\n",
            " <th class=\"infobox-label\" scope=\"row\" style=\"white-space: nowrap; padding-right: 0.65em;\">\n",
            "  Box office\n",
            " </th>\n",
            " <td class=\"infobox-data\">\n",
            "  $1.073 billion\n",
            "  <sup class=\"reference\" id=\"cite_ref-BOM_5-0\">\n",
            "   <a href=\"#cite_note-BOM-5\">\n",
            "    [4]\n",
            "   </a>\n",
            "  </sup>\n",
            " </td>\n",
            "</tr>\n",
            "\n"
          ]
        }
      ]
    },
    {
      "cell_type": "code",
      "source": [
        "def get_content_value(row_data):\n",
        "  if row_data.find(\"li\"):\n",
        "    return [li.get_text(\" \", strip=True).replace(\"\\xa0\", \"\") for li in row_data.find_all(\"li\")]\n",
        "  else:\n",
        "    return row_data.get_text(\" \", strip=True).replace(\"\\xa0\", \"\")  #strip=True，過濾掉空白字元\n",
        "\n",
        "movie_info = {}\n",
        "for index, row in enumerate(info_rows):\n",
        "  if index == 0:\n",
        "    movie_info[\"title\"] = row.find(\"th\").get_text()\n",
        "  elif index == 1:\n",
        "    continue\n",
        "  else:\n",
        "    content_key = row.find(\"th\").get_text()\n",
        "    content_value = get_content_value(row.find(\"td\"))\n",
        "    movie_info[content_key] = content_value\n",
        "\n",
        "movie_info"
      ],
      "metadata": {
        "colab": {
          "base_uri": "https://localhost:8080/"
        },
        "id": "cGCnzqkzKuTa",
        "outputId": "a54dd2c0-fe29-4741-8a0e-b6547a171378"
      },
      "execution_count": null,
      "outputs": [
        {
          "output_type": "execute_result",
          "data": {
            "text/plain": [
              "{'title': 'Toy Story 4',\n",
              " 'Directed by': 'Josh Cooley [a]',\n",
              " 'Screenplay by': ['Andrew Stanton', 'Stephany Folsom'],\n",
              " 'Story by': ['John Lasseter',\n",
              "  'Andrew Stanton',\n",
              "  'Josh Cooley',\n",
              "  'Valerie LaPointe',\n",
              "  'Rashida Jones',\n",
              "  'Will McCormack',\n",
              "  'Martin Hynes',\n",
              "  'Stephany Folsom'],\n",
              " 'Produced by': ['Mark Nielsen', 'Jonas Rivera'],\n",
              " 'Starring': ['Tom Hanks',\n",
              "  'Tim Allen',\n",
              "  'Annie Potts',\n",
              "  'Tony Hale',\n",
              "  'Keegan-Michael Key',\n",
              "  'Jordan Peele',\n",
              "  'Madeleine McGraw',\n",
              "  'Christina Hendricks',\n",
              "  'Keanu Reeves',\n",
              "  'Ally Maki',\n",
              "  'Jay Hernandez',\n",
              "  'Lori Alan',\n",
              "  'Joan Cusack'],\n",
              " 'Cinematography': ['Patrick Lin', 'Jean-Claude Kalache'],\n",
              " 'Edited by': 'Axel Geddes',\n",
              " 'Music by': 'Randy Newman',\n",
              " 'Productioncompanies': ['Walt Disney Pictures', 'Pixar Animation Studios'],\n",
              " 'Distributed by': 'Walt Disney Studios Motion Pictures',\n",
              " 'Release dates': ['June11,2019 ( 2019-06-11 ) ( El Capitan Theatre )',\n",
              "  'June21,2019 ( 2019-06-21 ) (United States)'],\n",
              " 'Running time': '100 minutes [2]',\n",
              " 'Country': 'United States',\n",
              " 'Language': 'English',\n",
              " 'Budget': '$200 million [3]',\n",
              " 'Box office': '$1.073 billion [4]'}"
            ]
          },
          "metadata": {},
          "execution_count": 4
        }
      ]
    },
    {
      "cell_type": "markdown",
      "source": [
        "## Get info box for all movies"
      ],
      "metadata": {
        "id": "u7h64Ox8DYTY"
      }
    },
    {
      "cell_type": "code",
      "source": [
        "request = requests.get(\"https://en.wikipedia.org/wiki/List_of_Walt_Disney_Pictures_films\")\n",
        "\n",
        "soup = bs(request.content)\n",
        "\n",
        "movies = soup.select(\".wikitable.sortable i\")\n",
        "movies[0].a[\"title\"]"
      ],
      "metadata": {
        "id": "Gvm87rrWAPRF",
        "colab": {
          "base_uri": "https://localhost:8080/",
          "height": 36
        },
        "outputId": "2fc865e2-063d-4dee-be79-7d548c18e7be"
      },
      "execution_count": null,
      "outputs": [
        {
          "output_type": "execute_result",
          "data": {
            "text/plain": [
              "'Snow White and the Seven Dwarfs (1937 film)'"
            ],
            "application/vnd.google.colaboratory.intrinsic+json": {
              "type": "string"
            }
          },
          "metadata": {},
          "execution_count": 5
        }
      ]
    },
    {
      "cell_type": "code",
      "source": [
        "def get_content_value(row_data):\n",
        "  if row_data.find(\"li\"):\n",
        "    return [li.get_text(\" \", strip=True).replace(\"\\xa0\", \"\") for li in row_data.find_all(\"li\")]\n",
        "  else:\n",
        "    return row_data.get_text(\" \", strip=True).replace(\"\\xa0\", \"\")\n",
        "\n",
        "def get_info_box(url):\n",
        "  request = requests.get(url)\n",
        "  soup = bs(request.content)\n",
        "  info_box = soup.find(class_=\"infobox vevent\")\n",
        "  info_rows = info_box.find_all(\"tr\")\n",
        "\n",
        "  movie_info = {}\n",
        "  for index, row in enumerate(info_rows):\n",
        "    if index == 0:\n",
        "      movie_info[\"title\"] = row.find(\"th\").get_text()\n",
        "    elif index == 1:\n",
        "      continue\n",
        "    else:\n",
        "      content_key = row.find(\"th\").get_text()\n",
        "      content_value = get_content_value(row.find(\"td\"))\n",
        "      movie_info[content_key] = content_value\n",
        "\n",
        "  return movie_info"
      ],
      "metadata": {
        "id": "5Kx8WgcTAPYt"
      },
      "execution_count": null,
      "outputs": []
    },
    {
      "cell_type": "code",
      "source": [
        "request = requests.get(\"https://en.wikipedia.org/wiki/List_of_Walt_Disney_Pictures_films\")\n",
        "soup = bs(request.content)\n",
        "movies = soup.select(\".wikitable.sortable i a\")   #只選擇有連結的電影\n",
        "\n",
        "base_path = \"https://en.wikipedia.org/\"\n",
        "\n",
        "movie_info_list = []\n",
        "for index, movie in enumerate(movies):\n",
        "  try:\n",
        "    relative_path = movie[\"href\"]\n",
        "    full_path = base_path + relative_path\n",
        "    title = movie[\"title\"]\n",
        "\n",
        "    movie_info_list.append(get_info_box(full_path))\n",
        "\n",
        "  except Exception as e:\n",
        "    print(movie.get_text())\n",
        "    print(e)\n"
      ],
      "metadata": {
        "id": "R2Or6yXOorFa",
        "colab": {
          "base_uri": "https://localhost:8080/"
        },
        "outputId": "731e43b9-fe15-4e70-eba1-a1ffd31916b3"
      },
      "execution_count": null,
      "outputs": [
        {
          "output_type": "stream",
          "name": "stdout",
          "text": [
            "The Sign of Zorro\n",
            "'NoneType' object has no attribute 'find'\n",
            "Mighty Ducks the Movie: The First Face-Off\n",
            "'NoneType' object has no attribute 'find'\n",
            "Spirited Away\n",
            "'NoneType' object has no attribute 'get_text'\n",
            "Howl's Moving Castle\n",
            "'NoneType' object has no attribute 'get_text'\n",
            "The Nightmare Before Christmas 3D\n",
            "'NoneType' object has no attribute 'get_text'\n",
            "The Secret of the Magic Gourd\n",
            "'NoneType' object has no attribute 'get_text'\n",
            "Ponyo\n",
            "'NoneType' object has no attribute 'get_text'\n",
            "Tales from Earthsea\n",
            "'NoneType' object has no attribute 'get_text'\n",
            "Anaganaga O Dheerudu\n",
            "'NoneType' object has no attribute 'get_text'\n",
            "The Secret World of Arrietty\n",
            "'NoneType' object has no attribute 'get_text'\n",
            "Tini: The Movie\n",
            "'NoneType' object has no attribute 'get_text'\n",
            "Born in China\n",
            "'NoneType' object has no attribute 'get_text'\n",
            "The Beatles: Get Back – The Rooftop Concert\n",
            "'NoneType' object has no attribute 'find'\n",
            "Toy Story 5\n",
            "'NoneType' object has no attribute 'find'\n",
            "61\n",
            "'NoneType' object has no attribute 'find_all'\n",
            "All Night Long\n",
            "'NoneType' object has no attribute 'find'\n",
            "Big Thunder Mountain Railroad\n",
            "'NoneType' object has no attribute 'find_all'\n",
            "Keeper of the Lost Cities\n",
            "'NoneType' object has no attribute 'find_all'\n",
            "Muppet Man\n",
            "'NoneType' object has no attribute 'find_all'\n",
            "One Thousand and One Nights\n",
            "'NoneType' object has no attribute 'find_all'\n",
            "Shrunk\n",
            "'NoneType' object has no attribute 'find'\n",
            "Sister Act 3\n",
            "'NoneType' object has no attribute 'find'\n",
            "Space Mountain\n",
            "'NoneType' object has no attribute 'find_all'\n",
            "The Graveyard Book\n",
            "'NoneType' object has no attribute 'find_all'\n",
            "The Thief\n",
            "'NoneType' object has no attribute 'find_all'\n",
            "Tom Sawyer\n",
            "'NoneType' object has no attribute 'find_all'\n",
            "citation needed\n",
            "'NoneType' object has no attribute 'find_all'\n",
            "Tower of Terror\n",
            "'NoneType' object has no attribute 'find_all'\n",
            "Figment\n",
            "'NoneType' object has no attribute 'find_all'\n"
          ]
        }
      ]
    },
    {
      "cell_type": "code",
      "source": [
        "movie_info_list[0]"
      ],
      "metadata": {
        "colab": {
          "base_uri": "https://localhost:8080/"
        },
        "id": "1p3Il6L8orJt",
        "outputId": "8873b69d-cc2f-4eb5-c9af-d2b46959f074"
      },
      "execution_count": null,
      "outputs": [
        {
          "output_type": "execute_result",
          "data": {
            "text/plain": [
              "{'title': 'Snow White and the Seven Dwarfs',\n",
              " 'Directed by': ['David Hand',\n",
              "  'Perce Pearce',\n",
              "  'William Cottrell',\n",
              "  'Larry Morey',\n",
              "  'Wilfred Jackson',\n",
              "  'Ben Sharpsteen'],\n",
              " 'Story by': ['Ted Sears',\n",
              "  'Richard Creedon',\n",
              "  'Otto Englander',\n",
              "  'Dick Rickard',\n",
              "  'Earl Hurd',\n",
              "  'Merrill De Maris',\n",
              "  'Dorothy Ann Blank',\n",
              "  'Webb Smith'],\n",
              " 'Based on': '\" Snow White \" by the Brothers Grimm',\n",
              " 'Produced by': 'Walt Disney',\n",
              " 'Starring': ['Adriana Caselotti',\n",
              "  'Roy Atwell',\n",
              "  'Pinto Colvig',\n",
              "  'Otis Harlan',\n",
              "  'Scotty Mattraw',\n",
              "  'Billy Gilbert',\n",
              "  'Eddie Collins'],\n",
              " 'Music by': ['Frank Churchill', 'Leigh Harline', 'Paul Smith'],\n",
              " 'Productioncompany': 'Walt Disney Productions',\n",
              " 'Distributed by': 'RKO Radio Pictures',\n",
              " 'Release dates': ['December21,1937 ( 1937-12-21 ) ( Carthay Circle Theatre )',\n",
              "  'February4,1938 ( 1938-02-04 ) (United States)'],\n",
              " 'Running time': '83 minutes',\n",
              " 'Country': 'United States',\n",
              " 'Language': 'English',\n",
              " 'Budget': '$1.5 million [1]',\n",
              " 'Box office': '$418 million [2]'}"
            ]
          },
          "metadata": {},
          "execution_count": 8
        }
      ]
    },
    {
      "cell_type": "code",
      "source": [
        "len(movie_info_list)"
      ],
      "metadata": {
        "id": "iwzbZGZhC_6S",
        "colab": {
          "base_uri": "https://localhost:8080/"
        },
        "outputId": "bc21655d-5963-4050-acf5-bb36189caadd"
      },
      "execution_count": null,
      "outputs": [
        {
          "output_type": "execute_result",
          "data": {
            "text/plain": [
              "541"
            ]
          },
          "metadata": {},
          "execution_count": 9
        }
      ]
    },
    {
      "cell_type": "markdown",
      "source": [
        "### save / load data (json)"
      ],
      "metadata": {
        "id": "lKGIwoSJvV4P"
      }
    },
    {
      "cell_type": "code",
      "source": [
        "import json\n",
        "\n",
        "def save_data(title, data):\n",
        "  with open(title, \"w\", encoding=\"utf-8\") as f:\n",
        "    json.dump(data, f, ensure_ascii=False, indent=2)"
      ],
      "metadata": {
        "id": "0TkO70TWC_-S"
      },
      "execution_count": null,
      "outputs": []
    },
    {
      "cell_type": "code",
      "source": [
        "import json\n",
        "\n",
        "def load_data(title):\n",
        "  with open(title, encoding=\"utf-8\") as f:\n",
        "    return json.load(f)"
      ],
      "metadata": {
        "id": "ahjaoaFZuCqU"
      },
      "execution_count": null,
      "outputs": []
    },
    {
      "cell_type": "code",
      "source": [
        "save_data(\"disney_data.json\", movie_info_list)"
      ],
      "metadata": {
        "id": "8RRuk_1xuCyl"
      },
      "execution_count": null,
      "outputs": []
    },
    {
      "cell_type": "markdown",
      "source": [
        "## Clean data\n",
        "### Subtasks\n",
        "- clean up references (remove [1] [2] ...)\n",
        "- convert running time to integer\n",
        "- convert dates into datatime object\n",
        "- split up long strings\n",
        "- convert Budget & Box office to numbers"
      ],
      "metadata": {
        "id": "CFjUfxo0O0Vw"
      }
    },
    {
      "cell_type": "code",
      "source": [
        "movie_info_list = load_data(\"disney_data.json\")"
      ],
      "metadata": {
        "id": "LVdS-394OvPL"
      },
      "execution_count": null,
      "outputs": []
    },
    {
      "cell_type": "markdown",
      "source": [
        "- clean up references & split up long strings"
      ],
      "metadata": {
        "id": "9PUrMaQIRhzA"
      }
    },
    {
      "cell_type": "code",
      "source": [
        "def get_content_value(row_data):\n",
        "  if row_data.find(\"li\"):\n",
        "    return [li.get_text(\" \", strip=True).replace(\"\\xa0\", \"\") for li in row_data.find_all(\"li\")]\n",
        "  #split up long strings\n",
        "  elif row_data.find(\"br\"):\n",
        "    return [text for text in row_data.stripped_strings]\n",
        "  else:\n",
        "    return row_data.get_text(\" \", strip=True).replace(\"\\xa0\", \"\")\n",
        "\n",
        "#clean up references(remove[1][2],(1956,6,8))\n",
        "def clean_tags(soup):\n",
        "  for tag in soup.find_all([\"sup\", \"span\"]):\n",
        "    tag.decompose()\n",
        "\n",
        "def get_info_box(url):\n",
        "  request = requests.get(url)\n",
        "  soup = bs(request.content)\n",
        "  info_box = soup.find(class_=\"infobox vevent\")\n",
        "  info_rows = info_box.find_all(\"tr\")\n",
        "\n",
        "  clean_tags(soup)\n",
        "\n",
        "  movie_info = {}\n",
        "  for index, row in enumerate(info_rows):\n",
        "    if index == 0:\n",
        "      movie_info[\"title\"] = row.find(\"th\").get_text(\" \", strip=True)\n",
        "    else:\n",
        "      header = row.find(\"th\")\n",
        "      if header:\n",
        "        content_key = row.find(\"th\").get_text(\" \", strip=True)\n",
        "        content_value = get_content_value(row.find(\"td\"))\n",
        "        movie_info[content_key] = content_value\n",
        "\n",
        "  return movie_info"
      ],
      "metadata": {
        "id": "AhvzbOC9OvUy"
      },
      "execution_count": null,
      "outputs": []
    },
    {
      "cell_type": "code",
      "source": [
        "get_info_box(\"https://en.wikipedia.org/wiki/One_Little_Indian_(film)\")"
      ],
      "metadata": {
        "colab": {
          "base_uri": "https://localhost:8080/"
        },
        "id": "gFFNz6ApOvXW",
        "outputId": "5e0e9d10-866f-495e-eb4a-5e6eeeb21ddb"
      },
      "execution_count": null,
      "outputs": [
        {
          "output_type": "execute_result",
          "data": {
            "text/plain": [
              "{'title': 'One Little Indian',\n",
              " 'Directed by': 'Bernard McEveety',\n",
              " 'Written by': 'Harry Spalding',\n",
              " 'Produced by': 'Winston Hibler',\n",
              " 'Starring': ['James Garner',\n",
              "  'Vera Miles',\n",
              "  'Pat Hingle',\n",
              "  \"Clay O'Brien\",\n",
              "  'John Doucette',\n",
              "  'Morgan Woodward',\n",
              "  'Andrew Prine'],\n",
              " 'Cinematography': 'Charles F. Wheeler',\n",
              " 'Edited by': 'Robert Stafford',\n",
              " 'Music by': 'Jerry Goldsmith',\n",
              " 'Production company': 'Walt Disney Productions',\n",
              " 'Distributed by': 'Buena Vista Distribution',\n",
              " 'Release date': ['June20,1973'],\n",
              " 'Running time': '90 Minutes',\n",
              " 'Country': 'United States',\n",
              " 'Language': 'English',\n",
              " 'Box office': '$2 million'}"
            ]
          },
          "metadata": {},
          "execution_count": 20
        }
      ]
    },
    {
      "cell_type": "code",
      "source": [
        "r = requests.get(\"https://en.wikipedia.org/wiki/List_of_Walt_Disney_Pictures_films\")\n",
        "soup = bs(r.content)\n",
        "movies = soup.select(\".wikitable.sortable i a\")\n",
        "\n",
        "base_path = \"https://en.wikipedia.org/\"\n",
        "\n",
        "movie_info_list = []\n",
        "for index, movie in enumerate(movies):\n",
        "    if index % 20 == 0:\n",
        "        print(index)\n",
        "    try:\n",
        "        relative_path = movie['href']\n",
        "        full_path = base_path + relative_path\n",
        "        title = movie['title']\n",
        "\n",
        "        movie_info_list.append(get_info_box(full_path))\n",
        "\n",
        "    except Exception as e:\n",
        "        print(movie.get_text())\n",
        "        print(e)\n"
      ],
      "metadata": {
        "id": "r1541I3faXfi",
        "colab": {
          "base_uri": "https://localhost:8080/"
        },
        "outputId": "19204fce-0428-4204-c592-c83c4842d77d"
      },
      "execution_count": null,
      "outputs": [
        {
          "output_type": "stream",
          "name": "stdout",
          "text": [
            "0\n",
            "20\n",
            "40\n",
            "The Sign of Zorro\n",
            "'NoneType' object has no attribute 'find'\n",
            "60\n",
            "80\n",
            "100\n",
            "120\n",
            "140\n",
            "160\n",
            "180\n",
            "200\n",
            "220\n",
            "Mighty Ducks the Movie: The First Face-Off\n",
            "'NoneType' object has no attribute 'find'\n",
            "240\n",
            "260\n",
            "Spirited Away\n",
            "'NoneType' object has no attribute 'find'\n",
            "280\n",
            "300\n",
            "Howl's Moving Castle\n",
            "'NoneType' object has no attribute 'find'\n",
            "320\n",
            "340\n",
            "360\n",
            "Ponyo\n",
            "'NoneType' object has no attribute 'find'\n",
            "380\n",
            "Tales from Earthsea\n",
            "'NoneType' object has no attribute 'find'\n",
            "400\n",
            "The Secret World of Arrietty\n",
            "'NoneType' object has no attribute 'find'\n",
            "420\n",
            "440\n",
            "460\n",
            "480\n",
            "500\n",
            "The Beatles: Get Back – The Rooftop Concert\n",
            "'NoneType' object has no attribute 'find'\n",
            "520\n",
            "Toy Story 5\n",
            "'NoneType' object has no attribute 'find'\n",
            "540\n",
            "61\n",
            "'NoneType' object has no attribute 'find_all'\n",
            "All Night Long\n",
            "'NoneType' object has no attribute 'find'\n",
            "Big Thunder Mountain Railroad\n",
            "'NoneType' object has no attribute 'find_all'\n",
            "Keeper of the Lost Cities\n",
            "'NoneType' object has no attribute 'find_all'\n",
            "Muppet Man\n",
            "'NoneType' object has no attribute 'find_all'\n",
            "One Thousand and One Nights\n",
            "'NoneType' object has no attribute 'find_all'\n",
            "Shrunk\n",
            "'NoneType' object has no attribute 'find'\n",
            "Sister Act 3\n",
            "'NoneType' object has no attribute 'find'\n",
            "Space Mountain\n",
            "'NoneType' object has no attribute 'find_all'\n",
            "560\n",
            "The Graveyard Book\n",
            "'NoneType' object has no attribute 'find_all'\n",
            "The Thief\n",
            "'NoneType' object has no attribute 'find_all'\n",
            "Tom Sawyer\n",
            "'NoneType' object has no attribute 'find_all'\n",
            "citation needed\n",
            "'NoneType' object has no attribute 'find_all'\n",
            "Tower of Terror\n",
            "'NoneType' object has no attribute 'find_all'\n",
            "Figment\n",
            "'NoneType' object has no attribute 'find_all'\n"
          ]
        }
      ]
    },
    {
      "cell_type": "code",
      "source": [
        "save_data(\"disney_data_cleaned.json\", movie_info_list)"
      ],
      "metadata": {
        "id": "yL7fsSLbaXjl"
      },
      "execution_count": null,
      "outputs": []
    },
    {
      "cell_type": "code",
      "source": [
        "movie_info_list = load_data(\"disney_data_cleaned.json\")\n",
        "\n",
        "[movie.get(\"Running time\", \"N/A\") for movie in movie_info_list]"
      ],
      "metadata": {
        "colab": {
          "base_uri": "https://localhost:8080/"
        },
        "id": "3eedNzyRFCmE",
        "outputId": "4fd97e15-41c3-4940-ab16-c8ac50ed5264"
      },
      "execution_count": null,
      "outputs": [
        {
          "output_type": "execute_result",
          "data": {
            "text/plain": [
              "['41 minutes (74 minutes 1966 release)',\n",
              " '83 minutes',\n",
              " '88 minutes',\n",
              " '126 minutes',\n",
              " '74 minutes',\n",
              " '64 minutes',\n",
              " '70 minutes',\n",
              " '42 minutes',\n",
              " '65 min.',\n",
              " '71 minutes',\n",
              " '75 minutes',\n",
              " '94 minutes',\n",
              " '73 minutes',\n",
              " '75 minutes',\n",
              " '82 minutes',\n",
              " '68 minutes',\n",
              " '74 minutes',\n",
              " '96 minutes',\n",
              " '75 minutes',\n",
              " '84 minutes',\n",
              " '77 minutes',\n",
              " '92 minutes',\n",
              " '69 minutes',\n",
              " '81 minutes',\n",
              " ['60 minutes (VHS version)', '71 minutes (original)'],\n",
              " '127 minutes',\n",
              " '92 minutes',\n",
              " '76 minutes',\n",
              " '75 minutes',\n",
              " '73 minutes',\n",
              " '85 minutes',\n",
              " '81 minutes',\n",
              " '70 minutes',\n",
              " '90 min.',\n",
              " '80 minutes',\n",
              " '75 minutes',\n",
              " '83 minutes',\n",
              " '83 minutes',\n",
              " '72 minutes',\n",
              " '97 minutes',\n",
              " '75 minutes',\n",
              " '104 minutes',\n",
              " '93 minutes',\n",
              " '105 minutes',\n",
              " '95 minutes',\n",
              " '97 minutes',\n",
              " '134 minutes',\n",
              " '69 minutes',\n",
              " '92 minutes',\n",
              " '126 minutes',\n",
              " '79 minutes',\n",
              " '97 minutes',\n",
              " '128 minutes',\n",
              " '74 minutes',\n",
              " '91 minutes',\n",
              " '105 minutes',\n",
              " '98 minutes',\n",
              " '130 minutes',\n",
              " '89 min.',\n",
              " '93 minutes',\n",
              " '67 minutes',\n",
              " '98 minutes',\n",
              " '100 minutes',\n",
              " '118 minutes',\n",
              " '103 Minutes',\n",
              " '110 minutes',\n",
              " '80 min.',\n",
              " '79 minutes',\n",
              " '91 minutes',\n",
              " '91 minutes',\n",
              " '97 minutes',\n",
              " '118 minutes',\n",
              " '139 minutes',\n",
              " '92 minutes',\n",
              " '131 mins.',\n",
              " '87 minutes',\n",
              " '116 minutes',\n",
              " '93 minutes',\n",
              " '110 min.',\n",
              " '110 min.',\n",
              " '131 minutes',\n",
              " '101 minutes',\n",
              " '108 minutes',\n",
              " '84 minutes',\n",
              " '78 minutes',\n",
              " '75 minutes',\n",
              " ['164 minutes',\n",
              "  '(',\n",
              "  'Los Angeles',\n",
              "  'premiere)',\n",
              "  '144 minutes',\n",
              "  '(',\n",
              "  'New York City',\n",
              "  'premiere)',\n",
              "  '118 minutes',\n",
              "  '(General release)',\n",
              "  '172 minutes',\n",
              "  '(',\n",
              "  \"Director's Cut\",\n",
              "  ')'],\n",
              " '106 minutes',\n",
              " '110 min.',\n",
              " '99 minutes',\n",
              " '113 mins.',\n",
              " '108 minutes',\n",
              " '112 minutes',\n",
              " '93 minutes',\n",
              " '91 minutes',\n",
              " '93 minutes',\n",
              " '100 minutes',\n",
              " '100 minutes',\n",
              " '79 minutes',\n",
              " '96 minutes',\n",
              " '113 minutes',\n",
              " '89 minutes',\n",
              " ['118 minutes (1971 original version)',\n",
              "  '139 minutes (1996 reconstruction version)'],\n",
              " '92 minutes',\n",
              " '88 minutes',\n",
              " '92 minutes',\n",
              " '87 minutes',\n",
              " '93 minutes',\n",
              " '93 min.',\n",
              " '93 minutes',\n",
              " '90 Minutes',\n",
              " '83 minutes',\n",
              " '96 minutes',\n",
              " '88 minutes',\n",
              " '89 minutes',\n",
              " '91 minutes',\n",
              " '93 mins',\n",
              " '92 minutes',\n",
              " '97 min.',\n",
              " '100 minutes',\n",
              " '100 minutes',\n",
              " '89 minutes',\n",
              " '91 minutes',\n",
              " '112 minutes',\n",
              " '115 minutes',\n",
              " '95 minutes',\n",
              " '91 min.',\n",
              " '95 minutes',\n",
              " '104 minutes',\n",
              " '74 minutes',\n",
              " '48 minutes',\n",
              " '77 minutes',\n",
              " '104 minutes',\n",
              " '128 minutes',\n",
              " '101 minutes',\n",
              " '94 minutes',\n",
              " '104 minutes',\n",
              " '90 minutes',\n",
              " '100 minutes',\n",
              " '88 minutes',\n",
              " '93 minutes',\n",
              " '98 minutes',\n",
              " '100 minutes',\n",
              " '112 minutes',\n",
              " '84 minutes',\n",
              " '98 minutes',\n",
              " '97 minutes',\n",
              " '114 minutes',\n",
              " '96 minutes',\n",
              " '100 minutes',\n",
              " '109 minutes',\n",
              " '83 minutes',\n",
              " '90 minutes',\n",
              " '107 minutes',\n",
              " '96 minutes',\n",
              " '103 minutes',\n",
              " '91 min',\n",
              " '95 minutes',\n",
              " '105 minutes',\n",
              " '113 minutes',\n",
              " '80 minutes',\n",
              " '101 minutes',\n",
              " '89 minutes',\n",
              " '74 minutes',\n",
              " '90 minutes',\n",
              " '89 minutes',\n",
              " '110 minutes',\n",
              " '74 minutes',\n",
              " '93 minutes',\n",
              " '84 minutes',\n",
              " '83 minutes',\n",
              " '69 minutes',\n",
              " '77 minutes',\n",
              " '107 minutes',\n",
              " '93 minutes',\n",
              " '88 minutes',\n",
              " '108 minutes',\n",
              " '84 minutes',\n",
              " '121 minutes',\n",
              " '89 minutes',\n",
              " '104 minutes',\n",
              " '90 minutes',\n",
              " '86 minutes',\n",
              " '84 minutes',\n",
              " '108 minutes',\n",
              " '107 minutes',\n",
              " '96 minutes',\n",
              " '98 minutes',\n",
              " '105 minutes',\n",
              " '108 minutes',\n",
              " '94 minutes',\n",
              " '106 minutes',\n",
              " '102 minutes',\n",
              " '88 minutes',\n",
              " '102 minutes',\n",
              " '102 minutes',\n",
              " '97 minutes',\n",
              " '111 minutes',\n",
              " '100 minutes',\n",
              " '96 minutes',\n",
              " '98 minutes',\n",
              " '78 minutes',\n",
              " '81 minutes',\n",
              " '108 minutes',\n",
              " '89 minutes',\n",
              " '99 minutes',\n",
              " '89 minutes',\n",
              " '81 minutes',\n",
              " '92 minutes',\n",
              " '100 minutes',\n",
              " '89 minutes',\n",
              " '79 minutes',\n",
              " '91 minutes',\n",
              " '101 minutes',\n",
              " '104 minutes',\n",
              " '103 minutes',\n",
              " '86 minutes',\n",
              " '105 minutes',\n",
              " '93 minutes',\n",
              " '92 minutes',\n",
              " '98 minutes',\n",
              " '95 minutes',\n",
              " '93 minutes',\n",
              " '87 minutes',\n",
              " '93 minutes',\n",
              " '87 minutes',\n",
              " '128 minutes',\n",
              " '86 minutes',\n",
              " '95 minutes',\n",
              " '114 minutes',\n",
              " '93 minutes',\n",
              " '83 minutes',\n",
              " '83 minutes',\n",
              " '88 minutes',\n",
              " '78 minutes',\n",
              " '112 minutes',\n",
              " '92 minutes',\n",
              " '74 minutes',\n",
              " '77 minutes',\n",
              " '82 minutes',\n",
              " '104 minutes',\n",
              " '113 minutes',\n",
              " '100 minutes',\n",
              " '78 minutes',\n",
              " '83 minutes',\n",
              " '96 minutes',\n",
              " '115 minutes',\n",
              " '86 minutes',\n",
              " '92 minutes',\n",
              " '99 minutes',\n",
              " '73 minutes',\n",
              " '128 minutes',\n",
              " '85 minutes',\n",
              " '88 minutes',\n",
              " '96 minutes',\n",
              " '104 minutes',\n",
              " '95 minutes',\n",
              " '72 minutes',\n",
              " '75 minutes',\n",
              " '61 minutes',\n",
              " '117 minutes',\n",
              " '94 minutes',\n",
              " '100 minutes',\n",
              " '143 minutes',\n",
              " '97 minutes',\n",
              " '85 minutes',\n",
              " '86 minutes',\n",
              " '50 minutes',\n",
              " '74 minutes',\n",
              " '136 minutes',\n",
              " '89 minutes',\n",
              " '76 minutes',\n",
              " '40 minutes',\n",
              " '120 minutes',\n",
              " '84 minutes',\n",
              " '113 minutes',\n",
              " '115 minutes',\n",
              " '131 minutes',\n",
              " '100 minutes',\n",
              " '68 minutes',\n",
              " '95 minutes',\n",
              " '97 minutes',\n",
              " '101 minutes',\n",
              " '100 minutes',\n",
              " '76 minutes',\n",
              " '120 minutes',\n",
              " '81 minutes',\n",
              " '143 minutes',\n",
              " '106 minutes',\n",
              " '40 minutes',\n",
              " '120 minutes',\n",
              " '99 minutes',\n",
              " '82 minutes',\n",
              " '117 minutes',\n",
              " '151 minutes',\n",
              " '104 minutes',\n",
              " '76 minutes',\n",
              " '92 minutes',\n",
              " '95 minutes',\n",
              " '94 minutes',\n",
              " '168 minutes',\n",
              " '111 minutes',\n",
              " '82 minutes',\n",
              " '87 minutes',\n",
              " '110 minutes',\n",
              " '107 minutes',\n",
              " '124 minutes',\n",
              " '74 minutes',\n",
              " '83 minutes',\n",
              " '150 minutes',\n",
              " '97 minutes',\n",
              " '91 minutes',\n",
              " '100 minutes',\n",
              " ['111 minutes (theatrical)', '120 minutes (extended/Disney+)'],\n",
              " '96 minutes',\n",
              " '99 minutes',\n",
              " ['76 minutes', '85 minutes'],\n",
              " '98 minutes',\n",
              " '97 minutes',\n",
              " ['99 minutes (UK)', '90 minutes (U.S.)'],\n",
              " '96 minutes',\n",
              " 'N/A',\n",
              " '90 minutes',\n",
              " 'N/A',\n",
              " '101 minutes',\n",
              " '96 minutes',\n",
              " '88 minutes',\n",
              " '97 minutes',\n",
              " '108 minutes',\n",
              " '85 minutes',\n",
              " ['104 minutes (Original cut)', '84 minutes (Disney cut)'],\n",
              " '116 minutes',\n",
              " '103 minutes',\n",
              " '109 minutes',\n",
              " '74 minutes',\n",
              " '123 minutes',\n",
              " '108 minutes',\n",
              " '100 minutes',\n",
              " '101 minutes',\n",
              " '125 minutes',\n",
              " 'N/A',\n",
              " '90 minutes',\n",
              " '88 minutes',\n",
              " '109 minutes',\n",
              " '89 minutes',\n",
              " '104 minutes',\n",
              " '137 minutes',\n",
              " '106 minutes',\n",
              " '69 minutes',\n",
              " '103 minutes',\n",
              " '132 minutes',\n",
              " '77 minutes',\n",
              " '96 minutes',\n",
              " '93 minutes',\n",
              " '104 minutes',\n",
              " '87 minutes',\n",
              " '101 minutes',\n",
              " '130 minutes',\n",
              " '77 minutes',\n",
              " '104 minutes',\n",
              " '149 minutes',\n",
              " '92 minutes',\n",
              " '102 minutes',\n",
              " '125 minutes',\n",
              " '107 minutes',\n",
              " '77 minutes',\n",
              " '124 minutes',\n",
              " '97 minutes',\n",
              " '84 minutes',\n",
              " '127 minutes',\n",
              " '81 minutes',\n",
              " '102 minutes',\n",
              " '124 minutes',\n",
              " '129 minutes',\n",
              " '106 minutes',\n",
              " '82 minutes',\n",
              " '130 minutes',\n",
              " '94 minutes',\n",
              " '154 minutes',\n",
              " '94 minutes',\n",
              " '117 minutes',\n",
              " '108 minutes',\n",
              " '106 minutes',\n",
              " '98 minutes',\n",
              " '113 minutes',\n",
              " '97 minutes',\n",
              " '117 minutes',\n",
              " '103 minutes',\n",
              " '124 minutes',\n",
              " '107 minutes',\n",
              " '161 minutes',\n",
              " '80 minutes',\n",
              " '129 minutes',\n",
              " '76 minutes',\n",
              " '129 minutes',\n",
              " '102 minutes',\n",
              " 'N/A',\n",
              " '162 minutes',\n",
              " '105 minutes',\n",
              " '109 minutes',\n",
              " '118 minutes',\n",
              " '104 minutes',\n",
              " '99 minutes',\n",
              " '112 minutes',\n",
              " '131 minutes',\n",
              " '112 minutes',\n",
              " '76 minutes',\n",
              " '128 minutes',\n",
              " '100 minutes',\n",
              " '118 minutes',\n",
              " '119 minutes',\n",
              " '104 minutes',\n",
              " '100 minutes',\n",
              " '103 minutes',\n",
              " '114 minutes',\n",
              " '99 minutes',\n",
              " '102 minutes',\n",
              " '107 minutes',\n",
              " '78 minutes',\n",
              " '89 minutes',\n",
              " '95 minutes',\n",
              " '160 minutes',\n",
              " '85 minutes',\n",
              " '100 minutes',\n",
              " '95 minutes',\n",
              " '115 minutes',\n",
              " 'N/A',\n",
              " 'N/A',\n",
              " 'N/A',\n",
              " 'N/A',\n",
              " 'N/A',\n",
              " 'N/A']"
            ]
          },
          "metadata": {},
          "execution_count": 42
        }
      ]
    },
    {
      "cell_type": "markdown",
      "source": [
        "- convert running time to integer"
      ],
      "metadata": {
        "id": "8NcMi-hXRZTx"
      }
    },
    {
      "cell_type": "code",
      "source": [
        "def minutes_to_integer(running_time):\n",
        "    if running_time == \"N/A\":\n",
        "        return None\n",
        "    if isinstance(running_time, list):\n",
        "        return int(running_time[0].split(\" \")[0])\n",
        "    else: # is a string\n",
        "        return int(running_time.split(\" \")[0])\n",
        "\n",
        "for movie in movie_info_list:\n",
        "    movie['Running time (int)'] = minutes_to_integer(movie.get('Running time', \"N/A\"))"
      ],
      "metadata": {
        "id": "ZoD9VdEJFCpB"
      },
      "execution_count": null,
      "outputs": []
    },
    {
      "cell_type": "code",
      "source": [
        "movie_info_list[10]"
      ],
      "metadata": {
        "colab": {
          "base_uri": "https://localhost:8080/"
        },
        "id": "lvvWzzvAJ53i",
        "outputId": "3dea23d0-889b-4f8a-a70c-269d73e2b92a"
      },
      "execution_count": null,
      "outputs": [
        {
          "output_type": "execute_result",
          "data": {
            "text/plain": [
              "{'title': 'Make Mine Music',\n",
              " 'Directed by': ['Jack Kinney',\n",
              "  'Clyde Geronimi',\n",
              "  'Hamilton Luske',\n",
              "  'Joshua Meador',\n",
              "  'Robert Cormack'],\n",
              " 'Produced by': 'Walt Disney',\n",
              " 'Written by': ['James Bordrero',\n",
              "  'Homer Brightman',\n",
              "  'Erwin Graham',\n",
              "  'Eric Gurney',\n",
              "  'T. Hee',\n",
              "  'Sylvia Holland',\n",
              "  'Dick Huemer',\n",
              "  'Dick Kelsey',\n",
              "  'Dick Kinney',\n",
              "  'Jesse Marsh',\n",
              "  'Tom Oreb',\n",
              "  'Cap Palmer',\n",
              "  'Erdman Penner',\n",
              "  'Harry Reeves',\n",
              "  'Dick Shaw',\n",
              "  'John Walbridge',\n",
              "  'Roy Williams'],\n",
              " 'Based on': ['\"',\n",
              "  'Casey at the Bat',\n",
              "  '\"',\n",
              "  'by',\n",
              "  'Ernest Thayer',\n",
              "  'Peter and the Wolf',\n",
              "  'by',\n",
              "  'Sergei Prokofiev'],\n",
              " 'Starring': ['Nelson Eddy',\n",
              "  'Dinah Shore',\n",
              "  'Benny Goodman',\n",
              "  'The Andrews Sisters',\n",
              "  'Jerry Colonna',\n",
              "  'Sterling Holloway',\n",
              "  'Andy Russell',\n",
              "  'David Lichine',\n",
              "  'Tania Riabouchinskaya',\n",
              "  'The Pied Pipers',\n",
              "  \"The King's Men\",\n",
              "  'The Ken Darby Chorus'],\n",
              " 'Music by': ['Eliot Daniel',\n",
              "  'Ken Darby',\n",
              "  'Charles Wolcott',\n",
              "  'Oliver Wallace',\n",
              "  'Edward Plumb'],\n",
              " 'Production company': 'Walt Disney Productions',\n",
              " 'Distributed by': 'RKO Radio Pictures, Inc.',\n",
              " 'Release date': ['April 20, 1946 (Premiere-New York City)',\n",
              "  'August 15, 1946 (U.S.)'],\n",
              " 'Running time': '75 minutes',\n",
              " 'Country': 'United States',\n",
              " 'Language': 'English',\n",
              " 'Budget': '$1.35 million',\n",
              " 'Box office': '$3,275,000 (worldwide rentals)',\n",
              " 'Running time (int)': 75}"
            ]
          },
          "metadata": {},
          "execution_count": 44
        }
      ]
    },
    {
      "cell_type": "code",
      "source": [
        "print([movie.get(\"Running time (int)\", \"N/A\") for movie in movie_info_list])"
      ],
      "metadata": {
        "colab": {
          "base_uri": "https://localhost:8080/"
        },
        "id": "OJGe7VXKJ56r",
        "outputId": "3ad39b9a-ed89-4025-8b18-562a9166cbf1"
      },
      "execution_count": null,
      "outputs": [
        {
          "output_type": "stream",
          "name": "stdout",
          "text": [
            "[41, 83, 88, 126, 74, 64, 70, 42, 65, 71, 75, 94, 73, 75, 82, 68, 74, 96, 75, 84, 77, 92, 69, 81, 60, 127, 92, 76, 75, 73, 85, 81, 70, 90, 80, 75, 83, 83, 72, 97, 75, 104, 93, 105, 95, 97, 134, 69, 92, 126, 79, 97, 128, 74, 91, 105, 98, 130, 89, 93, 67, 98, 100, 118, 103, 110, 80, 79, 91, 91, 97, 118, 139, 92, 131, 87, 116, 93, 110, 110, 131, 101, 108, 84, 78, 75, 164, 106, 110, 99, 113, 108, 112, 93, 91, 93, 100, 100, 79, 96, 113, 89, 118, 92, 88, 92, 87, 93, 93, 93, 90, 83, 96, 88, 89, 91, 93, 92, 97, 100, 100, 89, 91, 112, 115, 95, 91, 95, 104, 74, 48, 77, 104, 128, 101, 94, 104, 90, 100, 88, 93, 98, 100, 112, 84, 98, 97, 114, 96, 100, 109, 83, 90, 107, 96, 103, 91, 95, 105, 113, 80, 101, 89, 74, 90, 89, 110, 74, 93, 84, 83, 69, 77, 107, 93, 88, 108, 84, 121, 89, 104, 90, 86, 84, 108, 107, 96, 98, 105, 108, 94, 106, 102, 88, 102, 102, 97, 111, 100, 96, 98, 78, 81, 108, 89, 99, 89, 81, 92, 100, 89, 79, 91, 101, 104, 103, 86, 105, 93, 92, 98, 95, 93, 87, 93, 87, 128, 86, 95, 114, 93, 83, 83, 88, 78, 112, 92, 74, 77, 82, 104, 113, 100, 78, 83, 96, 115, 86, 92, 99, 73, 128, 85, 88, 96, 104, 95, 72, 75, 61, 117, 94, 100, 143, 97, 85, 86, 50, 74, 136, 89, 76, 40, 120, 84, 113, 115, 131, 100, 68, 95, 97, 101, 100, 76, 120, 81, 143, 106, 40, 120, 99, 82, 117, 151, 104, 76, 92, 95, 94, 168, 111, 82, 87, 110, 107, 124, 74, 83, 150, 97, 91, 100, 111, 96, 99, 76, 98, 97, 99, 96, None, 90, None, 101, 96, 88, 97, 108, 85, 104, 116, 103, 109, 74, 123, 108, 100, 101, 125, None, 90, 88, 109, 89, 104, 137, 106, 69, 103, 132, 77, 96, 93, 104, 87, 101, 130, 77, 104, 149, 92, 102, 125, 107, 77, 124, 97, 84, 127, 81, 102, 124, 129, 106, 82, 130, 94, 154, 94, 117, 108, 106, 98, 113, 97, 117, 103, 124, 107, 161, 80, 129, 76, 129, 102, None, 162, 105, 109, 118, 104, 99, 112, 131, 112, 76, 128, 100, 118, 119, 104, 100, 103, 114, 99, 102, 107, 78, 89, 95, 160, 85, 100, 95, 115, None, None, None, None, None, None]\n"
          ]
        }
      ]
    },
    {
      "cell_type": "markdown",
      "source": [
        "- convert Budget & Box office to numbers"
      ],
      "metadata": {
        "id": "cSvR8zbWRUSC"
      }
    },
    {
      "cell_type": "code",
      "source": [
        "print([movie.get(\"Budget\", \"N/A\") for movie in movie_info_list])"
      ],
      "metadata": {
        "colab": {
          "base_uri": "https://localhost:8080/"
        },
        "id": "qwNHPJojQQfO",
        "outputId": "645bf443-88f2-4006-a1cc-e9561b376709"
      },
      "execution_count": null,
      "outputs": [
        {
          "output_type": "stream",
          "name": "stdout",
          "text": [
            "['N/A', '$1.49 million', '$2.6 million', '$2.28 million', '$600,000', '$950,000', '$858,000', 'N/A', '$788,000', 'N/A', '$1.35 million', '$2.125 million', 'N/A', '$1.5 million', '$1.5 million', 'N/A', '$2.9 million', '$1,800,000', '$3 million', 'N/A', '$4 million', '$2 million', '$300,000', '$1.8 million', 'N/A', '$5 million', 'N/A', '$4 million', 'N/A', 'N/A', 'N/A', 'N/A', 'N/A', 'N/A', '$700,000', 'N/A', 'N/A', 'N/A', 'N/A', 'N/A', '$6 million', 'under $1 million or $1,250,000', 'N/A', '$2 million', 'N/A', 'N/A', '$2.5 million', 'N/A', 'N/A', '$4 million', '$3.6 million', 'N/A', 'N/A', 'N/A', 'N/A', '$3 million', 'N/A', '$3 million', 'N/A', 'N/A', 'N/A', 'N/A', 'N/A', 'N/A', 'N/A', 'N/A', 'N/A', '$3 million', 'N/A', 'N/A', 'N/A', 'N/A', '$4.4–6 million', 'N/A', 'N/A', 'N/A', 'N/A', 'N/A', 'N/A', 'N/A', 'N/A', 'N/A', 'N/A', 'N/A', '$4 million', 'N/A', '$5 million', 'N/A', 'N/A', 'N/A', 'N/A', '$5 million', 'N/A', 'N/A', 'N/A', 'N/A', 'N/A', 'N/A', '$4 million', 'N/A', 'N/A', 'N/A', '$6.3 million', 'N/A', 'N/A', 'N/A', 'N/A', 'N/A', 'N/A', 'N/A', 'N/A', '$5 million', 'N/A', 'N/A', 'N/A', 'N/A', '$8 million', 'N/A', 'N/A', 'N/A', 'N/A', 'N/A', 'AU$1 million', 'N/A', 'N/A', 'N/A', 'N/A', '$5 million', 'N/A', 'N/A', 'N/A', '$7.5 million', 'N/A', '$10 million', 'N/A', 'N/A', '$3.5 to 4 million', 'N/A', 'N/A', 'N/A', '$5.25 million', '$20 million', 'N/A', 'N/A', '$9 million', 'N/A', '$6-8 million', '$20 million', 'N/A', 'N/A', '$18 million', '$12 million', '$14 million', 'N/A', '', '$5 million', 'unknown', '$19 million (estimated)', '$11 million', '$28 million', '$25–44 million', 'N/A', 'N/A', '$14 million', '$9 million', 'N/A', 'A$8.7 million', '$31 million', '$18 million', '$5 million', '$40 million', '$20 million', 'N/A', '$14 million', '60 million Norwegian Kroner (around $8.7 million in 1989)', 'N/A', '$35-40 million', '$25 million', '$15 million', '$40 million', '$14 million', '$28 million', '$12 million', 'N/A', 'N/A', '$6.5 million', '$28 million', '$17 million', '$30 million', 'N/A', '$13 million', 'N/A', 'N/A', '$45 million', '$31 million', 'N/A', '$22 million', '$30 million', 'N/A', '$22 million', ['$32 million', '(estimated)'], 'N/A', '$55 million', '$24 million', '$15 million', '$12 million', 'N/A', '$30 million', 'N/A', '$31 million', 'N/A', '$38 million', '$100 million', '$15 million', 'N/A', '$75 million', 'N/A', '$32 million', '$85 million', '$55 million', '$3 million', '$16 million', '$80 million', '$30 million', '$24 million', '$90 million', '$15 million', '$30 million', '$120 million', '$90 million', '$65 million', '$5 million', 'N/A', '$130 million', '$90 million', '$10 million', '$90 million', '$80–$85 million', '$15 million –$30 million', '$127.5 million', '$65 million', '$30 million', '$85 million', '$100 million', '$23 million', '$90–120 million', '$26 million', '$25 million', '$115 million', '$33 million', '$20 million', '$22 million', '$80 million', '$35 million', '$15 million', '$65 million', '$140 million', '$20 million', '$46 million', '$13 million', '$20 million', '$17 million', '$94 million', '$140 million', '$26 million', '$46 million', '$90 million', 'N/A', '$10 million', '$28 million', '$15 million', '$110 million', 'N/A', '$110 million', 'N/A', '$45 million', '$92 million', '$100 million', 'N/A', '$20 million', '$56 million', '$25 million', '$50 million', '$35 million', '$35 million', '$25 million', '$150 million', '$180 million', '$30 million', '$1 million', '$40 million', '$50 million', '$80 million', '$120 million', '$225 million', '$30 million', '$18 million', '$12 million', '$20–25 million', 'N/A', '$300 million', '$150 million', '$25 million', 'N/A', '$22 million', '$85 million', '$130 million', '$7 million', '$25 million', '$225 million', '$180 million', '$20 million', 'N/A', '$11 million', '$150 million', '$80 million', 'N/A', '$50 million', '$30 million', '$47 million', '$175 million', 'N/A', '$150 million', 'N/A', '$8 million ( ₽ 350 million)', '$175-200 million', '$35 million', '$105 million', '$150 –$200 million', 'N/A', '$80 million', '$150  million', '$200 million', '$150 million', 'N/A', '$35 million', 'N/A', '$260 million', 'N/A', '$150 million', '(US$3.8 million)', 'N/A', '$150 million', 'N/A', '$5 million', '$8 million', ['$410.6 million (gross)', '$378.5 million (net)'], '$200 million', '$30 million', '$45 million', ['$306.6 million (gross)', '$263.7 million (net)'], '$5 million', 'N/A', '$185 million', '$25 million', '$39 million', '$165 million', '$200–215 million', 'N/A', '$200 million', '$225–250 million', '$50 million', '$150 million', '$35 million', '$51 million', '$5 million', '$25 million', '$180–263 million', '$50 million', '(US$3.2 million)', '$28 million', '$165 million', '$50 million', '$25 million', '$95–100 million', '$5–10 million', '$180–190 million', '$175 million', '', '$175 million', '$70–80 million', '$150 million', '$175–177 million', 'N/A', '$170 million', '$175–200 million', '$140 million', '$65 million', '$15 million', '$150–175 million', '70 crore', '$8 million', '$160–255 million', '$5–10 million', '$230–320 million', '$175 million', 'N/A', ['1.31\\xa0billion'], '$175 million', '$100–130 million', '$200 million', '$75 million', '$120–133 million', '$175 million', '$130 million', '$170 million', 'N/A', '$183 million', '$200 million', '$250–260 million', '$185 million', '$60 million', 'N/A', '$150 million', '$40 million', '$42 million', '$175–200 million', 'N/A', 'N/A', 'N/A', '$125 million', '$12.5 million (stage production)', 'N/A', '$24 million', 'N/A', '$200 million', 'N/A', '$150 million+', 'N/A', 'N/A', 'N/A', 'N/A']\n"
          ]
        }
      ]
    },
    {
      "cell_type": "code",
      "source": [
        "import re\n",
        "\n",
        "amounts = r\"thousand|million|billion\"\n",
        "number = r\"\\d+(,\\d{3})*\\.*\\d*\"\n",
        "standard = fr\"\\${number}(-|\\sto\\s)?({number})?\\s({amounts})\"\n",
        "\n",
        "def word_to_value(word):\n",
        "\tvalue_dict = {\"thousand\": 1000, \"million\": 1000000, \"billion\": 1000000000}\n",
        "\treturn value_dict.get(word.lower(), 1)\n",
        "\n",
        "def parse_word_syntax(string):\n",
        "\tstripped_string = string.replace(\",\", \"\")\n",
        "\tvalue = float(re.search(number, stripped_string).group())\n",
        "\tmodifier = word_to_value(re.search(amounts, string, flags=re.I).group())\n",
        "\treturn value*modifier\n",
        "\n",
        "def parse_value_syntax(string):\n",
        "\tstripped_string = string.replace(\",\", \"\")\n",
        "\treturn float(re.search(number, stripped_string).group())\n",
        "\n",
        "def money_conversion(money):\n",
        "\tif type(money) == list:\n",
        "\t\tmoney = money[0]\n",
        "\n",
        "\tword_syntax = re.search(standard, money, flags=re.I)\n",
        "\tvalue_syntax = re.search(fr\"\\${number}\", money)\n",
        "\n",
        "\tif word_syntax:\n",
        "\t\treturn parse_word_syntax(word_syntax.group())\n",
        "\telif value_syntax:\n",
        "\t\treturn parse_value_syntax(value_syntax.group())\n",
        "\telse:\n",
        "\t\treturn None"
      ],
      "metadata": {
        "id": "ZO0Mu8hBJ6Kx"
      },
      "execution_count": null,
      "outputs": []
    },
    {
      "cell_type": "code",
      "source": [
        " for movie in movie_info_list:\n",
        "    movie['Budget (float)'] = money_conversion(movie.get('Budget', \"N/A\"))\n",
        "    movie['Box office (float)'] = money_conversion(movie.get('Box office', \"N/A\"))"
      ],
      "metadata": {
        "id": "C10Pi4HWQQiM"
      },
      "execution_count": null,
      "outputs": []
    },
    {
      "cell_type": "code",
      "source": [
        "money_conversion(movie_info_list[10][\"Budget\"])"
      ],
      "metadata": {
        "colab": {
          "base_uri": "https://localhost:8080/"
        },
        "id": "bVzZfLa1QQpz",
        "outputId": "b1559abd-7859-4d50-f01b-eaba47429a65"
      },
      "execution_count": null,
      "outputs": [
        {
          "output_type": "execute_result",
          "data": {
            "text/plain": [
              "1350000.0"
            ]
          },
          "metadata": {},
          "execution_count": 75
        }
      ]
    },
    {
      "cell_type": "markdown",
      "source": [
        "- convert dates into datatime object"
      ],
      "metadata": {
        "id": "U2N8nPgYlXNY"
      }
    },
    {
      "cell_type": "code",
      "source": [
        "movie_info_list[50]"
      ],
      "metadata": {
        "colab": {
          "base_uri": "https://localhost:8080/"
        },
        "id": "HTUU3wA9k9S_",
        "outputId": "53a7f390-4269-474e-ab3e-7571fce2cfc4"
      },
      "execution_count": null,
      "outputs": [
        {
          "output_type": "execute_result",
          "data": {
            "text/plain": [
              "{'title': 'One Hundred and One Dalmatians',\n",
              " 'Directed by': ['Clyde Geronimi', 'Hamilton Luske', 'Wolfgang Reitherman'],\n",
              " 'Produced by': 'Walt Disney',\n",
              " 'Story by': 'Bill Peet',\n",
              " 'Based on': ['The Hundred and One Dalmatians', 'by', 'Dodie Smith'],\n",
              " 'Starring': ['Rod Taylor',\n",
              "  'Cate Bauer',\n",
              "  'Betty Lou Gerson',\n",
              "  'Ben Wright',\n",
              "  'Bill Lee (singing voice)',\n",
              "  'Lisa Davis',\n",
              "  'Martha Wentworth'],\n",
              " 'Music by': 'George Bruns',\n",
              " 'Edited by': ['Roy M. Brewer, Jr.', 'Donald Halliday'],\n",
              " 'Production company': 'Walt Disney Productions',\n",
              " 'Distributed by': 'Buena Vista Pictures Distribution',\n",
              " 'Release date': ['January 25, 1961'],\n",
              " 'Running time': '79 minutes',\n",
              " 'Country': 'United States',\n",
              " 'Language': 'English',\n",
              " 'Budget': '$3.6 million',\n",
              " 'Box office': '$303 million',\n",
              " 'Running time (int)': 79,\n",
              " 'Budget (float)': 3600000.0,\n",
              " 'Box office (float)': 303000000.0}"
            ]
          },
          "metadata": {},
          "execution_count": 81
        }
      ]
    },
    {
      "cell_type": "code",
      "source": [
        "print([movie.get('Release date', 'N/A') for movie in movie_info_list])"
      ],
      "metadata": {
        "colab": {
          "base_uri": "https://localhost:8080/"
        },
        "id": "Qs_FL4-0j4Wp",
        "outputId": "3a1e60b2-b652-4a34-c36e-bd54ecd8e46d"
      },
      "execution_count": null,
      "outputs": [
        {
          "output_type": "stream",
          "name": "stdout",
          "text": [
            "[['May 19, 1937'], ['December 21, 1937 ( Carthay Circle Theatre , Los Angeles , CA )', 'February 4, 1938 (United States)'], ['February 7, 1940 ( Center Theatre )', 'February 23, 1940 (United States)'], ['November 13, 1940'], ['June 20, 1941'], ['October 23, 1941 (New York City)', 'October 31, 1941 (U.S.)'], ['August 9, 1942 (World Premiere-London)', 'August 13, 1942 (Premiere-New York City)', 'August 21, 1942 (U.S.)'], ['August 24, 1942 (World Premiere-Rio de Janeiro)', 'February 6, 1943 (U.S. Premiere-Boston)', 'February 19, 1943 (U.S.)'], ['July 17, 1943'], ['December 21, 1944 (Mexico City)', 'February 3, 1945 (US)'], ['April 20, 1946 (Premiere-New York City)', 'August 15, 1946 (U.S.)'], ['November 12, 1946 (Premiere: Atlanta, Georgia)', 'November 20, 1946'], ['September 27, 1947'], 'May 27, 1948', ['November 29, 1948 (Chicago, Illinois)', 'January 19, 1949 (Indianapolis, Indiana)'], ['October 5, 1949'], ['February 15, 1950 (Boston)', 'March 4, 1950 (United States)'], ['June 22, 1950 (World Premiere- London )', 'July 29, 1950 ( US )'], ['July 26, 1951 (London, premiere)', 'July 28, 1951 (New York City, premiere)'], ['March 13, 1952 (Premiere- London )', 'June 26, 1952 ( US )'], ['February 5, 1953 (United States)'], ['August 8, 1953 ( US )'], 'November 10, 1953', ['26 October 1953 (Premiere- London )', '4 February 1954 ( US )'], ['August 17, 1954'], ['December 23, 1954'], 'May 25, 1955', ['June 22, 1955'], ['September 14, 1955'], 'December 22, 1955', 'June 8, 1956', 'July 18, 1956', ['November 6, 1956'], ['December 20, 1956'], 'June 19, 1957', 'August 28, 1957', ['December 25, 1957'], ['July 9, 1958'], ['August 12, 1958'], ['December 25, 1958'], ['January 29, 1959'], ['March 19, 1959'], ['June 24, 1959 (Dublin)', 'June 26, 1959 (Los Angeles)'], ['November 10, 1959'], 'January 21, 1960 ( Sarasota, FL )', ['February 24, 1960'], 'May 19, 1960', ['August 10, 1960'], ['November 1, 1960'], ['December 21, 1960'], ['January 25, 1961'], 'March 16, 1961', ['June 21, 1961'], ['July 12, 1961'], ['July 17, 1961'], ['December 14, 1961'], 'April 5, 1962', ['May 17, 1962'], ['June 6, 1962'], 'September 26, 1962', ['November 7, 1962 (Los Angeles)'], 'December 19, 1962', ['January 16, 1963'], ['March 29, 1963 (U.S.)'], 'June 1, 1963', ['July 7, 1963'], 'November 20, 1963', ['December 25, 1963'], 'March 12, 1964', ['February 11, 1964 (Los Angeles)'], ['11\\xa0December\\xa01963', '(', 'New York City, New York', ')', '4\\xa0June\\xa01964', '(United States)'], ['July 2, 1964'], ['August 27, 1964'], ['December 18, 1964'], ['January 28, 1965', '(', 'Atlanta, Georgia', 'Premiere)'], ['August 18, 1965 (Los Angeles)'], ['December 2, 1965'], ['February\\xa04,\\xa01966', '(premiere)', 'February\\xa016,\\xa01966'], ['June 25, 1966 (San Diego)', 'June 29, 1966 (U.S.)'], 'October 1, 1966', ['December 1, 1966'], ['February 8, 1967 (San Francisco)'], ['March 8, 1967 (United States)'], ['July 12, 1967'], ['October 18, 1967'], ['October 18, 1967'], ['June 23, 1967', 'November 30, 1967'], ['February 8, 1968'], ['March 21, 1968 ( Radio City Music Hall )'], ['June 26, 1968'], ['December 20, 1968'], ['December 24, 1968 (limited)', 'March 13, 1969 (wide)'], ['March 21, 1969'], 'June 11, 1969', ['December 31, 1969'], ['February 11, 1970'], 'July 1, 1970', ['December 15, 1970 (original release)', 'January 20, 1971'], ['December 11, 1970 (premiere)', 'December 24, 1970 (United States)'], 'March 17, 1971', 'June 22, 1971', ['June 30, 1971'], ['October 7, 1971 (United Kingdom)', 'December 13, 1971 (United States)'], ['March 22, 1972 (US)'], 'July 12, 1972', ['July 5, 1972'], ['October 18, 1972'], ['December 22, 1972'], 'February 1, 1973', ['March 23, 1973'], ['June 20, 1973'], ['November 8, 1973'], ['December 14, 1973'], ['June 6, 1974'], ['July 31, 1974'], ['August 1, 1974'], 'December 20, 1974 (with Winnie the Pooh and Tigger Too )', ['February 6, 1975'], ['March 21, 1975 (U.S.)'], ['July 24, 1975'], ['July 9, 1975'], ['October 8, 1975'], 'December 25, 1975', ['February 11, 1976 (Los Angeles)'], ['July 1, 1976'], ['July 7, 1976'], ['December 17, 1976'], ['December 17, 1976'], ['May 26, 1976', '(UK)', 'March 11, 1977', '(US)'], ['March 11, 1977'], ['June 22, 1977'], ['June 22, 1977'], ['June 24, 1977'], ['November 3, 1977'], 'December 16, 1977', ['March 10, 1978'], ['June 30, 1978 (New York)'], 'July 5, 1978', 'February 9, 1979', ['June 27, 1979'], ['July 19, 1979 (London)', 'August 3, 1979 (Los Angeles)'], ['December 18, 1979 (United Kingdom)', 'December 21, 1979 (United States)'], 'December 21, 1979', ['February 8, 1980'], ['April 17, 1980 (New York City)', 'October 9, 1981 (U.S.)'], ['June 27, 1980'], ['July 9, 1980 (Los Angeles)'], ['December 6, 1980'], 'February 11, 1981 (Los Angeles)', 'March 20, 1981', ['June 26, 1981'], ['July 10, 1981'], ['August 7, 1981'], 'February 5, 1982', ['July 9, 1982'], 'July 30, 1982', ['March 11, 1983'], ['April 29, 1983 (United States)'], ['October 7, 1983 (limited)', 'January 27, 1984'], ['June 21, 1985 (United States)'], ['July 26, 1985'], ['September 27, 1985'], ['November 22, 1985'], ['July 2, 1986'], ['August 1, 1986'], ['June 5, 1987'], ['24 March 1988 (Australia)', '15 April 1988 (United States)'], ['November 18, 1988'], ['June 23, 1989'], 'August 18, 1989', ['November 17, 1989'], ['August 3, 1990'], ['November 16, 1990'], ['January 18, 1991'], ['3 October 1990'], ['May 24, 1991'], ['June 21, 1991'], ['September 29, 1991 ( NYFF )', 'November 22, 1991 (United States)'], ['April 10, 1992'], ['July 17, 1992'], ['October 2, 1992'], ['November 25, 1992'], ['December 11, 1992'], 'February 3, 1993', ['March 12, 1993'], ['April 2, 1993'], ['July 16, 1993'], ['October 1, 1993'], ['November 12, 1993'], ['January 14, 1994'], ['February 11, 1994'], ['March 25, 1994'], ['April 15, 1994'], ['June 15, 1994', 'June 24, 1994'], ['July 15, 1994'], ['October 28, 1994'], ['November 11, 1994'], ['December 25, 1994'], ['February 17, 1995'], ['March 3, 1995'], ['March 24, 1995'], ['April 7, 1995'], ['June 23, 1995'], ['July 28, 1995'], ['August 11, 1995'], ['September 29, 1995'], ['January 22, 1995 ( Sundance Film Festival )', 'October 20, 1995 (U.S.)'], ['November 19, 1995 ( El Capitan Theatre )', 'November 22, 1995 (United States)'], ['December 22, 1995'], ['February 16, 1996'], ['March 8, 1996'], ['April 12, 1996 (United States)', 'August 2, 1996 (United Kingdom)'], ['June 21, 1996'], ['August 30, 1996'], ['October 4, 1996'], ['November 27, 1996'], ['February 14, 1997'], ['March 7, 1997 (US)', 'August 5, 1998 (France)'], ['June 13, 1997 (limited release)', 'June 27, 1997 (wide release)'], ['July 16, 1997'], 'August 1, 1997', ['October 10, 1997'], ['November 16, 1997 ( Pennsylvania )', 'November 26, 1997 (United States)'], ['December 25, 1997'], ['March 27, 1998 (United States)'], ['June 19, 1998'], ['July 29, 1998 (United States)'], ['November 13, 1998'], ['November 20, 1998'], ['December 25, 1998'], ['February 12, 1999'], ['March 26, 1999'], ['February 5, 1999'], ['June 12, 1999 ( El Capitan Theatre )', 'June 16, 1999 (United States )'], ['July 23, 1999'], ['May 1999 ( Cannes )', 'October 15, 1999 (United States)'], ['November 13, 1999 ( El Capitan Theatre )', 'November 24, 1999 (United States)'], ['December 17, 1999 ( Carnegie Hall )', 'January 1, 2000 ( IMAX )', 'June 16, 2000 (United States)'], ['February 11, 2000 (United States)'], ['May 19, 2000 (United States)'], ['July 7, 2000'], ['September 29, 2000'], ['November 22, 2000'], ['December 15, 2000'], ['February 10, 2001 (premiere)', 'February 16, 2001 (United States)'], ['June 3, 2001 (Premiere)', 'June 15, 2001 (United States)'], ['August 3, 2001'], ['October 5, 2001'], ['October 28, 2001 ( El Capitan Theatre )', 'November 2, 2001 (United States)'], ['January 18, 2002'], ['February 10, 2002 ( New York City )', 'February 15, 2002 (United States)'], ['March 29, 2002'], ['June 21, 2002'], ['July 21, 2002', 'July 26, 2002'], ['October 11, 2002 (U.S.)'], ['November 1, 2002 (United States)'], ['November 27, 2002'], ['February 14, 2003'], ['March 16, 2003 (premiere)', 'March 21, 2003 (United States)', 'July 2, 2003 ( Manila , Philippines )'], ['March 31, 2003 (premiere)', 'April 11, 2003 (limited)'], ['April 18, 2003 (United States)'], ['May 2, 2003 (United States)'], ['May 30, 2003'], ['June 28, 2003 ( Disneyland Resort )', 'July 9, 2003 (United States)'], ['August 4, 2003 ( Los Angeles )', 'August 6, 2003 (United States)'], ['November 1, 2003'], ['November 26, 2003'], ['December 25, 2003'], ['January 16, 2004'], ['February 6, 2004'], ['February 20, 2004 (United States)'], ['April 2, 2004'], ['April 22, 2004'], ['June 13, 2004 (Los Angeles, California)', 'June 16, 2004 (United States)'], ['July 2, 2004'], ['August 11, 2004'], ['October 27, 2004 ( BFI London Film Festival )', 'November 5, 2004 (United States)'], ['November 19, 2004'], ['January 28, 2005'], ['February 11, 2005'], ['March 4, 2005'], ['March 18, 2005'], ['June 22, 2005'], ['July 29, 2005'], ['March 25, 2005 (UK)', 'August 19, 2005 (US)'], ['September 30, 2005'], ['October 30, 2005 ( El Capitan Theatre )', 'November 4, 2005 (United States)'], ['December 7, 2005 ( Royal Film Performance )', 'December 8, 2005 (United Kingdom)', 'December 9, 2005 (United States)'], 'January 13, 2006', ['January 27, 2006'], ['February 17, 2006 (United States)'], ['March 10, 2006'], ['April 14, 2006'], [\"May 26, 2006 ( Lowe's Motor Speedway )\", 'June 9, 2006 (United States)'], ['June 24, 2006 ( Disneyland Resort )', 'July 7, 2006 (United States)'], ['August 25, 2006'], ['October 29, 1993'], ['November 3, 2006'], ['February 16, 2007'], ['March 23, 2007 (US)', 'March 30, 2007 (UK)'], ['May 19, 2007 ( Disneyland Resort )', 'May 25, 2007 (United States)'], ['June 22, 2007 ( Kodak Theatre )', 'June 29, 2007 (United States)'], ['August 3, 2007'], ['August 28, 2007'], ['September 23, 2007 ( Hollywood )', 'September 28, 2007 (United States)'], ['October 20, 2007 ( London )', 'November 21, 2007 (United States)'], ['December 21, 2007'], 'February 1, 2008', ['March 7, 2008'], ['May 7, 2008 ( New York City )', 'May 16, 2008 (United States)', 'June 26, 2008 (United Kingdom)'], ['June 23, 2008 ( Los Angeles )', 'June 27, 2008 (United States)'], ['September 26, 2008 (United States)'], 'October 17, 2008', ['October 17, 2008 (London)', 'October 24, 2008 (United States)'], ['November 21, 2008'], ['December 25, 2008'], ['February 27, 2009'], ['March 11, 2009 (Egypt)', 'March 13, 2009 (United States)'], ['April 10, 2009'], ['October 10, 2007 (France)', 'November 16, 2007 (United Kingdom)', 'January 12, 2008 (Germany)', 'April 22, 2009 (United States)'], ['May 29, 2009'], 'N/A', ['July 24, 2009'], ['2008'], ['2009'], ['November 3, 2009 ( London )', 'November 6, 2009 (United States)'], ['November 25, 2009'], ['November 25, 2009 (Los Angeles premiere)', 'December 11, 2009 (United States)'], ['February 25, 2010 ( Odeon Leicester Square )', 'March 5, 2010 (United States)'], ['September 6, 2009 ( Telluride Film Festival )', 'March 26, 2010'], ['October 17, 2009 ( Tokyo International Film Festival )', 'January 24, 2010 (France)'], ['May 9, 2010 (London premiere)', 'May 28, 2010 (United States)'], ['June 12, 2010 ( Taormina Film Fest )', 'June 18, 2010 (United States)'], ['July 8, 2010 (Fantasia Film Festival)', 'July 14, 2010'], ['26 October 2008 ( France )', '29 September 2009 ( United Kingdom )'], ['September 30, 2010 ( Hollywood )', 'October 8, 2010 (United States)'], ['8 October 2010'], ['November 14, 2010 ( El Capitan Theatre )', 'November 24, 2010 (United States)'], ['April 24, 2009 (San Francisco International Film Festival)', 'May 22, 2009 (United States)'], ['November 30, 2010 (Tokyo)', 'December 17, 2010 (United States)'], ['14 January 2011 (India)'], ['17 February 2011'], ['March 11, 2011'], ['22 April 2011'], ['April 22, 2011 (United States)', 'February 1, 2012 (France)', 'April 27, 2012 (United Kingdom)'], ['April 29, 2011'], ['May 7, 2011 ( Disneyland Resort )', 'May 20, 2011 (United States)'], ['June 18, 2011 (Hollywood)', 'June 24, 2011 (United States)'], ['April 6, 2011 (Belgium)', 'July 15, 2011 (United States)'], ['November 4, 2011 (Savannah Film Festival)', 'November 23, 2011 (United States)'], ['February 22, 2012 ( Los Angeles )', 'March 9, 2012 (United States)'], ['April 20, 2012 (United States)', 'February 20, 2013 (France)', 'May 3, 2013 (United Kingdom)'], ['25 May 2012'], ['June 10, 2012 ( SIFF )', 'June 22, 2012 (United States)'], ['August 15, 2012'], ['September 20, 2012 (Fantastic Fest)', 'October 5, 2012 (United States)'], ['October 29, 2012 ( El Capitan Theatre )', 'November 2, 2012 (United States)'], ['February 14, 2013 ( El Capitan Theatre )', 'March 8, 2013 (United States)'], ['16 March 2011 (France)', '16 April 2013 (United States)'], ['June 5, 2013 ( BFI Southbank )', 'June 21, 2013 (United States)'], ['June 22, 2013 ( Hyperion Theatre )', 'July 3, 2013 (United States)'], ['August 2, 2013 ( EAA AirVenture Oshkosh )', 'August 9, 2013'], ['November 19, 2013 ( El Capitan Theatre )', 'November 22, 2013 (United States)'], ['October 20, 2013 ( BFI London Film Festival )', 'November 29, 2013 (United Kingdom)', 'December 13, 2013 (United States)', 'January 9, 2014 (Australia)'], ['March 11, 2014 ( El Capitan Theatre )', 'March 21, 2014 (United States)'], ['April 18, 2014 (United States)'], ['May 6, 2014 ( El Capitan Theatre )', 'May 16, 2014 (United States)'], ['May 28, 2014 ( El Capitan Theatre )', 'May 30, 2014 (United States)'], ['July 15, 2014 ( El Capitan Theatre )', 'July 18, 2014 (United States)'], ['19 September 2014'], ['October 6, 2014 ( El Capitan Theatre )', 'October 10, 2014 (United States)'], ['October 23, 2014 ( Tokyo International Film Festival )', 'November 7, 2014 (United States)'], ['December 8, 2014 ( Ziegfeld Theatre )', 'December 25, 2014 (United States)'], ['February 9, 2015 ( Hollywood )', 'February 20, 2015 (United States)'], ['February 13, 2015 ( Berlin )', 'March 13, 2015 (United States)', 'March 27, 2015 (United Kingdom)'], ['April 17, 2015 (United States)'], ['May 9, 2015 ( Disneyland )', 'May 22, 2015 (United States)'], ['May 18, 2015 ( Cannes )', 'June 19, 2015 (United States)'], ['19 June 2015'], ['November 10, 2015 ( Paris )', 'November 25, 2015 (United States)'], ['January 25, 2016 ( TCL Chinese Theatre )', 'January 29, 2016 (United States)'], ['February 13, 2016 (Belgium)', 'March 4, 2016 (United States)'], ['April 4, 2016 ( El Capitan Theatre )', 'April 15, 2016 (United States)'], ['April 23, 2016 (Amsterdam)', 'May 6, 2016 (Spain)', 'May 12, 2016 (Italy)'], ['May 10, 2016 ( London )', 'May 27, 2016 (United States)'], ['June 8, 2016 ( El Capitan Theatre )', 'June 17, 2016 (United States)'], ['May 14, 2016 ( Cannes )', 'July 1, 2016 (United States)'], ['August 8, 2016 ( El Capitan Theatre )', 'August 12, 2016 (United States)'], ['September 10, 2016 ( TIFF )', 'September 23, 2016 (United States)'], ['November 14, 2016 ( AFI Fest )', 'November 23, 2016 (United States)'], ['21 December 2016 (United States)', '23 December 2016 (India)'], ['26 January 2005'], ['February 23, 2017 ( Spencer House )', 'March 17, 2017 (United States)'], ['August 12, 2016 (China)', 'April 21, 2017 (United States)', 'August 23, 2017 (France)'], ['May 11, 2017 ( Shanghai )', 'May 26, 2017 (United States)'], ['May 23, 2017 ( Kannapolis )', 'June 16, 2017 (United States)'], ['June 30, 2017 (United States)'], ['14 July 2017'], ['October 20, 2017 ( Morelia )', 'November 22, 2017 (United States)'], ['February 26, 2018 ( El Capitan Theatre )', 'March 9, 2018 (United States)'], ['June 5, 2018 ( Los Angeles )', 'June 15, 2018 (United States)'], ['July 30, 2018 ( Burbank )', 'August 3, 2018 (United States)'], ['October 29, 2018 ( Dolby Theatre )', 'November 2, 2018 (United States)'], ['November 5, 2018 ( El Capitan Theatre )', 'November 21, 2018 (United States)'], ['November 29, 2018 ( Dolby Theatre )', 'December 19, 2018 (United States)'], ['March 11, 2019 ( Los Angeles )', 'March 29, 2019 (United States)'], ['April 17, 2019 (United States)'], ['May 8, 2019 ( Grand Rex )', 'May 24, 2019 (United States)'], ['June 11, 2019 ( El Capitan Theatre )', 'June 21, 2019 (United States)'], ['July 9, 2019 ( Hollywood )', 'July 19, 2019 (United States)'], ['October 18, 2019'], ['November 12, 2019 (United States)'], ['November 12, 2019 (United States)'], ['November 7, 2019 ( Dolby Theatre )', 'November 22, 2019 (United States)'], ['December 20, 2019 (United States)'], ['January 25, 2020 ( Sundance )', 'February 7, 2020 ( Disney+ )'], ['February 21, 2020 ( Berlinale )', 'March 6, 2020 (United States)'], ['March 13, 2020 (United States)'], ['March 28, 2018 (France)', 'April 3, 2020 ( Disney+ )'], ['April 3, 2020'], ['June 12, 2020'], ['July 3, 2020'], ['July 31, 2020'], ['August 14, 2020'], ['August 21, 2020 (United States)'], ['March 9, 2020 ( Hollywood )', 'September 4, 2020 (United States)'], ['October 16, 2020'], ['October 15, 2020 ( Rome Film Festival )', 'November 20, 2020 (United States)'], ['March 12, 2021'], ['May 28, 2021 (United States)'], ['July 30, 2021 (United States)'], ['27 August 2021']]\n"
          ]
        }
      ]
    },
    {
      "cell_type": "code",
      "source": [
        "from datetime import datetime\n",
        "\n",
        "dates = [movie.get('Release date', 'N/A') for movie in movie_info_list]\n",
        "\n",
        "def clean_date(date):\n",
        "  return date.split(\"(\")[0].strip()\n",
        "\n",
        "def date_conversion(date):\n",
        "  if isinstance(date, list):\n",
        "    date = date[0]\n",
        "  if date == \"N/A\":\n",
        "    return None\n",
        "\n",
        "  date_str = clean_date(date)\n",
        "  fmts = [\"%B %d, %Y\", \"%d %B %Y\"]\n",
        "  for fmt in fmts:\n",
        "    try:\n",
        "      return datetime.strptime(date_str, fmt)\n",
        "    except:\n",
        "      pass\n",
        "\n",
        "  return None"
      ],
      "metadata": {
        "id": "ipP3tamCkBpQ"
      },
      "execution_count": null,
      "outputs": []
    },
    {
      "cell_type": "code",
      "source": [
        "for movie in movie_info_list:\n",
        "  movie['Release date (datetime)'] = date_conversion(movie.get('Release date', 'N/A'))"
      ],
      "metadata": {
        "id": "rn0LCrlhkBsQ"
      },
      "execution_count": null,
      "outputs": []
    },
    {
      "cell_type": "code",
      "source": [
        "movie_info_list[50]"
      ],
      "metadata": {
        "colab": {
          "base_uri": "https://localhost:8080/"
        },
        "id": "KaAA0skKn5HS",
        "outputId": "2b9b9012-9b1d-4040-fbab-189fbafb2fd8"
      },
      "execution_count": null,
      "outputs": [
        {
          "output_type": "execute_result",
          "data": {
            "text/plain": [
              "{'title': 'One Hundred and One Dalmatians',\n",
              " 'Directed by': ['Clyde Geronimi', 'Hamilton Luske', 'Wolfgang Reitherman'],\n",
              " 'Produced by': 'Walt Disney',\n",
              " 'Story by': 'Bill Peet',\n",
              " 'Based on': ['The Hundred and One Dalmatians', 'by', 'Dodie Smith'],\n",
              " 'Starring': ['Rod Taylor',\n",
              "  'Cate Bauer',\n",
              "  'Betty Lou Gerson',\n",
              "  'Ben Wright',\n",
              "  'Bill Lee (singing voice)',\n",
              "  'Lisa Davis',\n",
              "  'Martha Wentworth'],\n",
              " 'Music by': 'George Bruns',\n",
              " 'Edited by': ['Roy M. Brewer, Jr.', 'Donald Halliday'],\n",
              " 'Production company': 'Walt Disney Productions',\n",
              " 'Distributed by': 'Buena Vista Pictures Distribution',\n",
              " 'Release date': ['January 25, 1961'],\n",
              " 'Running time': '79 minutes',\n",
              " 'Country': 'United States',\n",
              " 'Language': 'English',\n",
              " 'Budget': '$3.6 million',\n",
              " 'Box office': '$303 million',\n",
              " 'Running time (int)': 79,\n",
              " 'Budget (float)': 3600000.0,\n",
              " 'Box office (float)': 303000000.0,\n",
              " 'Release date (datetime)': datetime.datetime(1961, 1, 25, 0, 0)}"
            ]
          },
          "metadata": {},
          "execution_count": 87
        }
      ]
    },
    {
      "cell_type": "markdown",
      "source": [
        "Pickle 是 Python 的一種特殊的檔案格式，它可以儲存任何 Python 物件，包括字典、列表、物件等。"
      ],
      "metadata": {
        "id": "ECujUzwQpuNs"
      }
    },
    {
      "cell_type": "code",
      "source": [
        "import pickle\n",
        "\n",
        "def save_data_pickle(name, data):\n",
        "  with open(name, 'wb') as f:\n",
        "      pickle.dump(data, f)\n",
        "\n",
        "def load_data_pickle(name):\n",
        "  with open(name, 'rb') as f:\n",
        "      return pickle.load(f)"
      ],
      "metadata": {
        "id": "fSaf9Hqsoq_8"
      },
      "execution_count": null,
      "outputs": []
    },
    {
      "cell_type": "code",
      "source": [
        "save_data_pickle(\"disney_movie_data_cleaned_more.pickle\", movie_info_list)"
      ],
      "metadata": {
        "id": "tmI21uW0kBvx"
      },
      "execution_count": null,
      "outputs": []
    },
    {
      "cell_type": "code",
      "source": [
        "a = load_data_pickle(\"disney_movie_data_cleaned_more.pickle\")"
      ],
      "metadata": {
        "id": "r9chDFtNoGgu"
      },
      "execution_count": null,
      "outputs": []
    },
    {
      "cell_type": "code",
      "source": [
        "a == movie_info_list"
      ],
      "metadata": {
        "colab": {
          "base_uri": "https://localhost:8080/"
        },
        "id": "nvji2ONSoGkJ",
        "outputId": "647dea86-7d61-466a-c36a-851f0161ceba"
      },
      "execution_count": null,
      "outputs": [
        {
          "output_type": "execute_result",
          "data": {
            "text/plain": [
              "True"
            ]
          },
          "metadata": {},
          "execution_count": 95
        }
      ]
    },
    {
      "cell_type": "markdown",
      "source": [
        "## Attach IMDB/Rotten Tomatoes/Metascore scores"
      ],
      "metadata": {
        "id": "7VdpQJLornV0"
      }
    },
    {
      "cell_type": "code",
      "source": [
        "movie_info_list = load_data_pickle('disney_movie_data_cleaned_more.pickle')"
      ],
      "metadata": {
        "id": "-kha-GSspEQM"
      },
      "execution_count": null,
      "outputs": []
    },
    {
      "cell_type": "code",
      "source": [
        "## http://www.omdbapi.com/?apikey=[yourkey]&"
      ],
      "metadata": {
        "id": "msh2Xw2grvYC"
      },
      "execution_count": null,
      "outputs": []
    },
    {
      "cell_type": "code",
      "source": [
        "import requests\n",
        "import urllib\n",
        "import os\n",
        "\n",
        "def get_omdb_info(title):\n",
        "  base_url = \"http://www.omdbapi.com/?\"\n",
        "  parameters = {\"apikey\": os.environ['OMDB_API_KEY'], 't': title}\n",
        "  params_encoded = urllib.parse.urlencode(parameters)\n",
        "  full_url = base_url + params_encoded\n",
        "  return requests.get(full_url).json()\n",
        "\n",
        "def get_rotten_tomato_score(omdb_info):\n",
        "  ratings = omdb_info.get('Ratings', [])\n",
        "  for rating in ratings:\n",
        "    if rating['Source'] == 'Rotten Tomatoes':\n",
        "      return rating['Value']\n",
        "  return None\n",
        "\n",
        "get_omdb_info(\"into the woods\")"
      ],
      "metadata": {
        "id": "8oEchZ-ss3U9"
      },
      "execution_count": null,
      "outputs": []
    },
    {
      "cell_type": "code",
      "source": [],
      "metadata": {
        "id": "ij501VkTs4E_"
      },
      "execution_count": null,
      "outputs": []
    },
    {
      "cell_type": "code",
      "source": [],
      "metadata": {
        "id": "8YNv0EUUs4Ie"
      },
      "execution_count": null,
      "outputs": []
    }
  ]
}